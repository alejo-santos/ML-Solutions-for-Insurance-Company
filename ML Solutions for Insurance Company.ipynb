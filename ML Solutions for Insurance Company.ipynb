{
 "cells": [
  {
   "cell_type": "markdown",
   "metadata": {},
   "source": [
    "# Project Description"
   ]
  },
  {
   "cell_type": "markdown",
   "metadata": {},
   "source": [
    "**Project Overview: Machine Learning Solutions for Insurance Company**\n",
    "\n",
    "An insurance company seeks to leverage machine learning to address several key business challenges. Your task is to evaluate the feasibility of applying machine learning techniques to achieve the following objectives:\n",
    "\n",
    "- **Task 1: Customer Similarity Identification**\n",
    "  Develop a solution to identify customers with profiles similar to a specified customer. This tool will assist marketing agents in creating targeted campaigns and enhancing customer engagement.\n",
    "\n",
    "- **Task 2: Predicting Insurance Benefit Eligibility**\n",
    "  Build a predictive model to assess whether a new customer is likely to qualify for insurance benefits. The goal is to outperform a baseline (dummy) model in terms of predictive accuracy.\n",
    "\n",
    "- **Task 3: Estimating the Number of Insurance Benefits**\n",
    "  Using a linear regression model, predict the number of insurance benefits a new customer may receive. This will help the company forecast resource allocation and improve service delivery.\n",
    "\n",
    "- **Task 4: Data Protection Through Masking**\n",
    "  Implement a data transformation algorithm to protect sensitive customer information (data masking) while maintaining the integrity of the predictive model from Task 3. The objective is to ensure that if data were to be exposed, it would be difficult to recover personal information without degrading the model’s performance."
   ]
  },
  {
   "cell_type": "markdown",
   "metadata": {},
   "source": [
    "# Data Preprocessing & Exploration"
   ]
  },
  {
   "cell_type": "markdown",
   "metadata": {},
   "source": [
    "## Initialization"
   ]
  },
  {
   "cell_type": "code",
   "execution_count": 6,
   "metadata": {},
   "outputs": [],
   "source": [
    "import numpy as np\n",
    "import pandas as pd\n",
    "import seaborn as sns\n",
    "import sklearn.linear_model\n",
    "import sklearn.metrics\n",
    "import sklearn.neighbors\n",
    "import sklearn.preprocessing\n",
    "import matplotlib.pyplot as plt\n",
    "from sklearn.model_selection import train_test_split\n",
    "from IPython.display import display\n",
    "from sklearn.neighbors import NearestNeighbors, KNeighborsClassifier\n",
    "from sklearn.metrics import mean_squared_error, r2_score\n",
    "from sklearn.linear_model import LinearRegression"
   ]
  },
  {
   "cell_type": "code",
   "execution_count": 7,
   "metadata": {},
   "outputs": [],
   "source": [
    "import warnings\n",
    "warnings.filterwarnings(\"ignore\", category=UserWarning)"
   ]
  },
  {
   "cell_type": "markdown",
   "metadata": {},
   "source": [
    "## Load Data"
   ]
  },
  {
   "cell_type": "markdown",
   "metadata": {},
   "source": [
    "Load data and conduct a basic check that it's free from obvious issues."
   ]
  },
  {
   "cell_type": "code",
   "execution_count": 10,
   "metadata": {},
   "outputs": [],
   "source": [
    "try:\n",
    "    df = pd.read_csv('/datasets/insurance_us.csv')\n",
    "except FileNotFoundError:\n",
    "    df = pd.read_csv(r\"C:/Users/alejo/OneDrive/my_documents/vs_code/triple_ten/sprint_11/datasets/insurance_us.csv\")\n",
    "except:\n",
    "    print('File not found!')"
   ]
  },
  {
   "cell_type": "code",
   "execution_count": 11,
   "metadata": {},
   "outputs": [
    {
     "name": "stdout",
     "output_type": "stream",
     "text": [
      "<class 'pandas.core.frame.DataFrame'>\n",
      "RangeIndex: 5000 entries, 0 to 4999\n",
      "Data columns (total 5 columns):\n",
      " #   Column              Non-Null Count  Dtype  \n",
      "---  ------              --------------  -----  \n",
      " 0   Gender              5000 non-null   int64  \n",
      " 1   Age                 5000 non-null   float64\n",
      " 2   Salary              5000 non-null   float64\n",
      " 3   Family members      5000 non-null   int64  \n",
      " 4   Insurance benefits  5000 non-null   int64  \n",
      "dtypes: float64(2), int64(3)\n",
      "memory usage: 195.4 KB\n"
     ]
    }
   ],
   "source": [
    "#check the data\n",
    "df.info()"
   ]
  },
  {
   "cell_type": "code",
   "execution_count": 12,
   "metadata": {},
   "outputs": [
    {
     "data": {
      "text/html": [
       "<div>\n",
       "<style scoped>\n",
       "    .dataframe tbody tr th:only-of-type {\n",
       "        vertical-align: middle;\n",
       "    }\n",
       "\n",
       "    .dataframe tbody tr th {\n",
       "        vertical-align: top;\n",
       "    }\n",
       "\n",
       "    .dataframe thead th {\n",
       "        text-align: right;\n",
       "    }\n",
       "</style>\n",
       "<table border=\"1\" class=\"dataframe\">\n",
       "  <thead>\n",
       "    <tr style=\"text-align: right;\">\n",
       "      <th></th>\n",
       "      <th>Gender</th>\n",
       "      <th>Age</th>\n",
       "      <th>Salary</th>\n",
       "      <th>Family members</th>\n",
       "      <th>Insurance benefits</th>\n",
       "    </tr>\n",
       "  </thead>\n",
       "  <tbody>\n",
       "    <tr>\n",
       "      <th>count</th>\n",
       "      <td>5000.000000</td>\n",
       "      <td>5000.000000</td>\n",
       "      <td>5000.000000</td>\n",
       "      <td>5000.000000</td>\n",
       "      <td>5000.000000</td>\n",
       "    </tr>\n",
       "    <tr>\n",
       "      <th>mean</th>\n",
       "      <td>0.499000</td>\n",
       "      <td>30.952800</td>\n",
       "      <td>39916.360000</td>\n",
       "      <td>1.194200</td>\n",
       "      <td>0.148000</td>\n",
       "    </tr>\n",
       "    <tr>\n",
       "      <th>std</th>\n",
       "      <td>0.500049</td>\n",
       "      <td>8.440807</td>\n",
       "      <td>9900.083569</td>\n",
       "      <td>1.091387</td>\n",
       "      <td>0.463183</td>\n",
       "    </tr>\n",
       "    <tr>\n",
       "      <th>min</th>\n",
       "      <td>0.000000</td>\n",
       "      <td>18.000000</td>\n",
       "      <td>5300.000000</td>\n",
       "      <td>0.000000</td>\n",
       "      <td>0.000000</td>\n",
       "    </tr>\n",
       "    <tr>\n",
       "      <th>25%</th>\n",
       "      <td>0.000000</td>\n",
       "      <td>24.000000</td>\n",
       "      <td>33300.000000</td>\n",
       "      <td>0.000000</td>\n",
       "      <td>0.000000</td>\n",
       "    </tr>\n",
       "    <tr>\n",
       "      <th>50%</th>\n",
       "      <td>0.000000</td>\n",
       "      <td>30.000000</td>\n",
       "      <td>40200.000000</td>\n",
       "      <td>1.000000</td>\n",
       "      <td>0.000000</td>\n",
       "    </tr>\n",
       "    <tr>\n",
       "      <th>75%</th>\n",
       "      <td>1.000000</td>\n",
       "      <td>37.000000</td>\n",
       "      <td>46600.000000</td>\n",
       "      <td>2.000000</td>\n",
       "      <td>0.000000</td>\n",
       "    </tr>\n",
       "    <tr>\n",
       "      <th>max</th>\n",
       "      <td>1.000000</td>\n",
       "      <td>65.000000</td>\n",
       "      <td>79000.000000</td>\n",
       "      <td>6.000000</td>\n",
       "      <td>5.000000</td>\n",
       "    </tr>\n",
       "  </tbody>\n",
       "</table>\n",
       "</div>"
      ],
      "text/plain": [
       "            Gender          Age        Salary  Family members  \\\n",
       "count  5000.000000  5000.000000   5000.000000     5000.000000   \n",
       "mean      0.499000    30.952800  39916.360000        1.194200   \n",
       "std       0.500049     8.440807   9900.083569        1.091387   \n",
       "min       0.000000    18.000000   5300.000000        0.000000   \n",
       "25%       0.000000    24.000000  33300.000000        0.000000   \n",
       "50%       0.000000    30.000000  40200.000000        1.000000   \n",
       "75%       1.000000    37.000000  46600.000000        2.000000   \n",
       "max       1.000000    65.000000  79000.000000        6.000000   \n",
       "\n",
       "       Insurance benefits  \n",
       "count         5000.000000  \n",
       "mean             0.148000  \n",
       "std              0.463183  \n",
       "min              0.000000  \n",
       "25%              0.000000  \n",
       "50%              0.000000  \n",
       "75%              0.000000  \n",
       "max              5.000000  "
      ]
     },
     "execution_count": 12,
     "metadata": {},
     "output_type": "execute_result"
    }
   ],
   "source": [
    "df.describe()"
   ]
  },
  {
   "cell_type": "code",
   "execution_count": 13,
   "metadata": {},
   "outputs": [
    {
     "data": {
      "image/png": "[encoded data removed]",
      "text/plain": [
       "<Figure size 1000x1000 with 5 Axes>"
      ]
     },
     "metadata": {},
     "output_type": "display_data"
    }
   ],
   "source": [
    "# Visualize the data distribution\n",
    "plt.figure(figsize=(10, 10))\n",
    "for i, column in enumerate(df.columns, 1):\n",
    "    plt.subplot(len(df.columns) // 3 + 1, 3, i)\n",
    "    sns.histplot(df[column], bins=30, kde=False)\n",
    "    plt.title(column)\n",
    "\n",
    "plt.tight_layout()\n",
    "plt.show()"
   ]
  },
  {
   "cell_type": "code",
   "execution_count": 14,
   "metadata": {},
   "outputs": [],
   "source": [
    "df = df.rename(columns={\n",
    "    'Gender': 'gender',  # renaming 'Gender' to 'gender'\n",
    "    'Age': 'age',  # renaming 'Age' to 'age'\n",
    "    'Salary': 'income',  # renaming 'Salary' to 'income'\n",
    "    'Family members': 'family_members',  # renaming 'Family members' to 'family_members'\n",
    "    'Insurance benefits': 'insurance_benefits'  # renaming 'Insurance benefits' to 'insurance_benefits'\n",
    "})"
   ]
  },
  {
   "cell_type": "markdown",
   "metadata": {},
   "source": [
    "The purpose of this renaming operation is to make the column names more consistent with the style of the code. "
   ]
  },
  {
   "cell_type": "code",
   "execution_count": 16,
   "metadata": {},
   "outputs": [
    {
     "data": {
      "text/html": [
       "<div>\n",
       "<style scoped>\n",
       "    .dataframe tbody tr th:only-of-type {\n",
       "        vertical-align: middle;\n",
       "    }\n",
       "\n",
       "    .dataframe tbody tr th {\n",
       "        vertical-align: top;\n",
       "    }\n",
       "\n",
       "    .dataframe thead th {\n",
       "        text-align: right;\n",
       "    }\n",
       "</style>\n",
       "<table border=\"1\" class=\"dataframe\">\n",
       "  <thead>\n",
       "    <tr style=\"text-align: right;\">\n",
       "      <th></th>\n",
       "      <th>gender</th>\n",
       "      <th>age</th>\n",
       "      <th>income</th>\n",
       "      <th>family_members</th>\n",
       "      <th>insurance_benefits</th>\n",
       "    </tr>\n",
       "  </thead>\n",
       "  <tbody>\n",
       "    <tr>\n",
       "      <th>2928</th>\n",
       "      <td>1</td>\n",
       "      <td>36.0</td>\n",
       "      <td>53600.0</td>\n",
       "      <td>2</td>\n",
       "      <td>0</td>\n",
       "    </tr>\n",
       "    <tr>\n",
       "      <th>306</th>\n",
       "      <td>0</td>\n",
       "      <td>25.0</td>\n",
       "      <td>35500.0</td>\n",
       "      <td>0</td>\n",
       "      <td>0</td>\n",
       "    </tr>\n",
       "    <tr>\n",
       "      <th>1539</th>\n",
       "      <td>0</td>\n",
       "      <td>18.0</td>\n",
       "      <td>42400.0</td>\n",
       "      <td>1</td>\n",
       "      <td>0</td>\n",
       "    </tr>\n",
       "    <tr>\n",
       "      <th>1757</th>\n",
       "      <td>0</td>\n",
       "      <td>42.0</td>\n",
       "      <td>35500.0</td>\n",
       "      <td>1</td>\n",
       "      <td>1</td>\n",
       "    </tr>\n",
       "    <tr>\n",
       "      <th>3852</th>\n",
       "      <td>1</td>\n",
       "      <td>22.0</td>\n",
       "      <td>44900.0</td>\n",
       "      <td>1</td>\n",
       "      <td>0</td>\n",
       "    </tr>\n",
       "  </tbody>\n",
       "</table>\n",
       "</div>"
      ],
      "text/plain": [
       "      gender   age   income  family_members  insurance_benefits\n",
       "2928       1  36.0  53600.0               2                   0\n",
       "306        0  25.0  35500.0               0                   0\n",
       "1539       0  18.0  42400.0               1                   0\n",
       "1757       0  42.0  35500.0               1                   1\n",
       "3852       1  22.0  44900.0               1                   0"
      ]
     },
     "execution_count": 16,
     "metadata": {},
     "output_type": "execute_result"
    }
   ],
   "source": [
    "df.sample(5)"
   ]
  },
  {
   "cell_type": "code",
   "execution_count": 17,
   "metadata": {},
   "outputs": [],
   "source": [
    "# we may want to fix the age type (from float to int) though this is not critical\n",
    "\n",
    "# write your conversion here if you choose:\n",
    "df['age'] = df['age'].astype(int)  # converting the data type of 'age' column to integer"
   ]
  },
  {
   "cell_type": "markdown",
   "metadata": {},
   "source": [
    "This line of code is using the astype function from the pandas library in Python to change the data type of the ‘age’ column in the DataFrame df to integer (int)."
   ]
  },
  {
   "cell_type": "code",
   "execution_count": 19,
   "metadata": {},
   "outputs": [],
   "source": [
    "# check to see that the conversion was successful\n",
    "if df.dtypes['age'] == np.int64:\n",
    "    print(\"The 'age' column is of integer type./n\")\n",
    "    print(df.info()) # We will print the data frame's info to also verify the 'Dtype'"
   ]
  },
  {
   "cell_type": "code",
   "execution_count": 20,
   "metadata": {},
   "outputs": [
    {
     "data": {
      "text/html": [
       "<div>\n",
       "<style scoped>\n",
       "    .dataframe tbody tr th:only-of-type {\n",
       "        vertical-align: middle;\n",
       "    }\n",
       "\n",
       "    .dataframe tbody tr th {\n",
       "        vertical-align: top;\n",
       "    }\n",
       "\n",
       "    .dataframe thead th {\n",
       "        text-align: right;\n",
       "    }\n",
       "</style>\n",
       "<table border=\"1\" class=\"dataframe\">\n",
       "  <thead>\n",
       "    <tr style=\"text-align: right;\">\n",
       "      <th></th>\n",
       "      <th>gender</th>\n",
       "      <th>age</th>\n",
       "      <th>income</th>\n",
       "      <th>family_members</th>\n",
       "      <th>insurance_benefits</th>\n",
       "    </tr>\n",
       "  </thead>\n",
       "  <tbody>\n",
       "    <tr>\n",
       "      <th>count</th>\n",
       "      <td>5000.000000</td>\n",
       "      <td>5000.000000</td>\n",
       "      <td>5000.000000</td>\n",
       "      <td>5000.000000</td>\n",
       "      <td>5000.000000</td>\n",
       "    </tr>\n",
       "    <tr>\n",
       "      <th>mean</th>\n",
       "      <td>0.499000</td>\n",
       "      <td>30.952800</td>\n",
       "      <td>39916.360000</td>\n",
       "      <td>1.194200</td>\n",
       "      <td>0.148000</td>\n",
       "    </tr>\n",
       "    <tr>\n",
       "      <th>std</th>\n",
       "      <td>0.500049</td>\n",
       "      <td>8.440807</td>\n",
       "      <td>9900.083569</td>\n",
       "      <td>1.091387</td>\n",
       "      <td>0.463183</td>\n",
       "    </tr>\n",
       "    <tr>\n",
       "      <th>min</th>\n",
       "      <td>0.000000</td>\n",
       "      <td>18.000000</td>\n",
       "      <td>5300.000000</td>\n",
       "      <td>0.000000</td>\n",
       "      <td>0.000000</td>\n",
       "    </tr>\n",
       "    <tr>\n",
       "      <th>25%</th>\n",
       "      <td>0.000000</td>\n",
       "      <td>24.000000</td>\n",
       "      <td>33300.000000</td>\n",
       "      <td>0.000000</td>\n",
       "      <td>0.000000</td>\n",
       "    </tr>\n",
       "    <tr>\n",
       "      <th>50%</th>\n",
       "      <td>0.000000</td>\n",
       "      <td>30.000000</td>\n",
       "      <td>40200.000000</td>\n",
       "      <td>1.000000</td>\n",
       "      <td>0.000000</td>\n",
       "    </tr>\n",
       "    <tr>\n",
       "      <th>75%</th>\n",
       "      <td>1.000000</td>\n",
       "      <td>37.000000</td>\n",
       "      <td>46600.000000</td>\n",
       "      <td>2.000000</td>\n",
       "      <td>0.000000</td>\n",
       "    </tr>\n",
       "    <tr>\n",
       "      <th>max</th>\n",
       "      <td>1.000000</td>\n",
       "      <td>65.000000</td>\n",
       "      <td>79000.000000</td>\n",
       "      <td>6.000000</td>\n",
       "      <td>5.000000</td>\n",
       "    </tr>\n",
       "  </tbody>\n",
       "</table>\n",
       "</div>"
      ],
      "text/plain": [
       "            gender          age        income  family_members  \\\n",
       "count  5000.000000  5000.000000   5000.000000     5000.000000   \n",
       "mean      0.499000    30.952800  39916.360000        1.194200   \n",
       "std       0.500049     8.440807   9900.083569        1.091387   \n",
       "min       0.000000    18.000000   5300.000000        0.000000   \n",
       "25%       0.000000    24.000000  33300.000000        0.000000   \n",
       "50%       0.000000    30.000000  40200.000000        1.000000   \n",
       "75%       1.000000    37.000000  46600.000000        2.000000   \n",
       "max       1.000000    65.000000  79000.000000        6.000000   \n",
       "\n",
       "       insurance_benefits  \n",
       "count         5000.000000  \n",
       "mean             0.148000  \n",
       "std              0.463183  \n",
       "min              0.000000  \n",
       "25%              0.000000  \n",
       "50%              0.000000  \n",
       "75%              0.000000  \n",
       "max              5.000000  "
      ]
     },
     "execution_count": 20,
     "metadata": {},
     "output_type": "execute_result"
    }
   ],
   "source": [
    "# now have a look at the data's descriptive statistics. \n",
    "# Does everything look okay?\n",
    "df.describe()"
   ]
  },
  {
   "cell_type": "markdown",
   "metadata": {},
   "source": [
    "Observations:\n",
    "\n",
    "- Gender: The distribution seems balanced between the two genders represented.\n",
    "\n",
    "- Age: The age distribution covers a reasonable range (18 to 65) with a mean around 31 years.\n",
    "\n",
    "- Income: The income distribution appears reasonable for the data provided, but there is a significant range from 5,300 to 79,000.\n",
    "\n",
    "- Family Members: Most individuals have between 0 and 2 family members, with a maximum of 6.\n",
    "\n",
    "- Insurance Benefits: The majority of individuals do not receive insurance benefits (as indicated by the 25th, 50th, and 75th percentiles all being 0), but a few receive up to 5 benefits.\n",
    "\n",
    "Potential Concerns:\n",
    "\n",
    "- Insurance Benefits: The high standard deviation and the large range (0 to 5) compared to the low mean and median suggest that only a small fraction of the population receives multiple benefits, which might require further investigation to understand the distribution better.\n",
    "\n",
    "Overall, the data appears to be consistent and reasonable. However, the distribution of insurance benefits could be explored further to understand the significant variance."
   ]
  },
  {
   "cell_type": "markdown",
   "metadata": {},
   "source": [
    "## EDA"
   ]
  },
  {
   "cell_type": "markdown",
   "metadata": {},
   "source": [
    "Let's quickly check whether there are certain groups of customers by looking at the pair plot."
   ]
  },
  {
   "cell_type": "code",
   "execution_count": 24,
   "metadata": {},
   "outputs": [
    {
     "data": {
      "image/png": "[encoded data removed]",
      "text/plain": [
       "<Figure size 1200x1200 with 30 Axes>"
      ]
     },
     "metadata": {},
     "output_type": "display_data"
    }
   ],
   "source": [
    "g = sns.pairplot(df, kind='hist')\n",
    "g.fig.set_size_inches(12, 12)"
   ]
  },
  {
   "cell_type": "markdown",
   "metadata": {},
   "source": [
    "Ok, it is a bit difficult to spot obvious groups (clusters) as it is difficult to combine several variables simultaneously (to analyze multivariate distributions). That's where LA and ML can be quite handy."
   ]
  },
  {
   "cell_type": "markdown",
   "metadata": {},
   "source": [
    "# Task 1: Similar Customers"
   ]
  },
  {
   "cell_type": "markdown",
   "metadata": {},
   "source": [
    "In the language of ML, it is necessary to develop a procedure that returns k nearest neighbors (objects) for a given object based on the distance between the objects.\n",
    "\n",
    "You may want to review the following lessons (chapter -> lesson)\n",
    "- Distance Between Vectors -> Euclidean Distance\n",
    "- Distance Between Vectors -> Manhattan Distance\n",
    "\n",
    "To solve the task, we can try different distance metrics."
   ]
  },
  {
   "cell_type": "markdown",
   "metadata": {},
   "source": [
    "Write a function that returns k nearest neighbors for an $n^{th}$ object based on a specified distance metric. The number of received insurance benefits should not be taken into account for this task. \n",
    "\n",
    "You can use a ready implementation of the kNN algorithm from scikit-learn (check [the link](https://scikit-learn.org/stable/modules/generated/sklearn.neighbors.NearestNeighbors.html#sklearn.neighbors.NearestNeighbors)) or use your own.\n",
    "\n",
    "Test it for four combination of two cases\n",
    "- Scaling\n",
    "  - the data is not scaled\n",
    "  - the data is scaled with the [MaxAbsScaler](https://scikit-learn.org/stable/modules/generated/sklearn.preprocessing.MaxAbsScaler.html) scaler\n",
    "- Distance Metrics\n",
    "  - Euclidean\n",
    "  - Manhattan\n",
    "\n",
    "Answer these questions:\n",
    "- Does the data being not scaled affect the kNN algorithm? If so, how does that appear?\n",
    "- How similar are the results using the Manhattan distance metric (regardless of the scaling)?"
   ]
  },
  {
   "cell_type": "code",
   "execution_count": 29,
   "metadata": {},
   "outputs": [],
   "source": [
    "feature_names = ['gender', 'age', 'income', 'family_members']\n",
    "\n",
    "def get_knn(df, n, k, metric):\n",
    "    \n",
    "    \"\"\"\n",
    "    Returns k nearest neighbors\n",
    "\n",
    "    :param df: pandas DataFrame used to find similar objects within\n",
    "    :param n: object no for which the nearest neighbours are looked for\n",
    "    :param k: the number of the nearest neighbours to return\n",
    "    :param metric: name of distance metric\n",
    "    \"\"\"\n",
    "\n",
    "    nbrs = NearestNeighbors(n_neighbors=k, metric=metric).fit(df[feature_names])\n",
    "    \n",
    "    nbrs_distances, nbrs_indices = nbrs.kneighbors([df.iloc[n][feature_names]], k, return_distance=True)\n",
    "    \n",
    "    df_res = pd.concat([\n",
    "        df.iloc[nbrs_indices[0]], \n",
    "        pd.DataFrame(nbrs_distances.T, index=nbrs_indices[0], columns=['distance'])\n",
    "        ], axis=1)\n",
    "    \n",
    "    return df_res"
   ]
  },
  {
   "cell_type": "markdown",
   "metadata": {},
   "source": [
    "Scaling the data."
   ]
  },
  {
   "cell_type": "code",
   "execution_count": 31,
   "metadata": {},
   "outputs": [],
   "source": [
    "# feature_names = ['gender', 'age', 'income', 'family_members']\n",
    "\n",
    "transformer_mas = sklearn.preprocessing.MaxAbsScaler().fit(df[feature_names].to_numpy())\n",
    "\n",
    "df_scaled = df.copy()\n",
    "df_scaled.loc[:, feature_names] = transformer_mas.transform(df[feature_names].to_numpy())"
   ]
  },
  {
   "cell_type": "code",
   "execution_count": 32,
   "metadata": {},
   "outputs": [
    {
     "data": {
      "text/html": [
       "<div>\n",
       "<style scoped>\n",
       "    .dataframe tbody tr th:only-of-type {\n",
       "        vertical-align: middle;\n",
       "    }\n",
       "\n",
       "    .dataframe tbody tr th {\n",
       "        vertical-align: top;\n",
       "    }\n",
       "\n",
       "    .dataframe thead th {\n",
       "        text-align: right;\n",
       "    }\n",
       "</style>\n",
       "<table border=\"1\" class=\"dataframe\">\n",
       "  <thead>\n",
       "    <tr style=\"text-align: right;\">\n",
       "      <th></th>\n",
       "      <th>gender</th>\n",
       "      <th>age</th>\n",
       "      <th>income</th>\n",
       "      <th>family_members</th>\n",
       "      <th>insurance_benefits</th>\n",
       "    </tr>\n",
       "  </thead>\n",
       "  <tbody>\n",
       "    <tr>\n",
       "      <th>2684</th>\n",
       "      <td>0</td>\n",
       "      <td>0.276923</td>\n",
       "      <td>0.410127</td>\n",
       "      <td>0.666667</td>\n",
       "      <td>0</td>\n",
       "    </tr>\n",
       "    <tr>\n",
       "      <th>2650</th>\n",
       "      <td>1</td>\n",
       "      <td>0.646154</td>\n",
       "      <td>0.243038</td>\n",
       "      <td>0.000000</td>\n",
       "      <td>1</td>\n",
       "    </tr>\n",
       "    <tr>\n",
       "      <th>3160</th>\n",
       "      <td>1</td>\n",
       "      <td>0.323077</td>\n",
       "      <td>0.550633</td>\n",
       "      <td>0.166667</td>\n",
       "      <td>0</td>\n",
       "    </tr>\n",
       "    <tr>\n",
       "      <th>4429</th>\n",
       "      <td>0</td>\n",
       "      <td>0.569231</td>\n",
       "      <td>0.613924</td>\n",
       "      <td>0.166667</td>\n",
       "      <td>0</td>\n",
       "    </tr>\n",
       "    <tr>\n",
       "      <th>3105</th>\n",
       "      <td>1</td>\n",
       "      <td>0.338462</td>\n",
       "      <td>0.611392</td>\n",
       "      <td>0.000000</td>\n",
       "      <td>0</td>\n",
       "    </tr>\n",
       "  </tbody>\n",
       "</table>\n",
       "</div>"
      ],
      "text/plain": [
       "      gender       age    income  family_members  insurance_benefits\n",
       "2684       0  0.276923  0.410127        0.666667                   0\n",
       "2650       1  0.646154  0.243038        0.000000                   1\n",
       "3160       1  0.323077  0.550633        0.166667                   0\n",
       "4429       0  0.569231  0.613924        0.166667                   0\n",
       "3105       1  0.338462  0.611392        0.000000                   0"
      ]
     },
     "execution_count": 32,
     "metadata": {},
     "output_type": "execute_result"
    }
   ],
   "source": [
    "df_scaled.sample(5)"
   ]
  },
  {
   "cell_type": "markdown",
   "metadata": {},
   "source": [
    "Now, let's get similar records for a given one for every combination"
   ]
  },
  {
   "cell_type": "code",
   "execution_count": 34,
   "metadata": {},
   "outputs": [],
   "source": [
    "# Testing the function with different conditions\n",
    "n = 2  # Object index for which we are finding neighbors\n",
    "k = 5  # Number of nearest neighbors"
   ]
  },
  {
   "cell_type": "code",
   "execution_count": 35,
   "metadata": {},
   "outputs": [],
   "source": [
    "# Data not scaled, Euclidean distance\n",
    "neighbors_not_scaled_euclidean = get_knn(df, n, k, 'euclidean')\n",
    "\n",
    "# Data not scaled, Manhattan distance\n",
    "neighbors_not_scaled_manhattan = get_knn(df, n, k, 'manhattan')\n",
    "\n",
    "# Data scaled with MaxAbsScaler, Euclidean distance\n",
    "neighbors_scaled_euclidean = get_knn(df_scaled, n, k, 'euclidean')\n",
    "\n",
    "# Data scaled with MaxAbsScaler, Manhattan distance\n",
    "neighbors_scaled_manhattan = get_knn(df_scaled, n, k, 'manhattan')"
   ]
  },
  {
   "cell_type": "code",
   "execution_count": 36,
   "metadata": {},
   "outputs": [
    {
     "name": "stdout",
     "output_type": "stream",
     "text": [
      "Neighbors (not scaled, Euclidean):\n",
      "      gender  age   income  family_members  insurance_benefits    distance\n",
      "2          0   29  21000.0               0                   0    0.000000\n",
      "4544       1   31  21000.0               1                   0    2.449490\n",
      "2031       0   30  20900.0               0                   0  100.005000\n",
      "1741       1   28  21100.0               0                   0  100.010000\n",
      "4805       0   28  21100.0               2                   0  100.024997\n",
      "\n",
      "Neighbors (not scaled, Manhattan):\n",
      "      gender  age   income  family_members  insurance_benefits  distance\n",
      "2          0   29  21000.0               0                   0       0.0\n",
      "4544       1   31  21000.0               1                   0       4.0\n",
      "2031       0   30  20900.0               0                   0     101.0\n",
      "1741       1   28  21100.0               0                   0     102.0\n",
      "4805       0   28  21100.0               2                   0     103.0\n",
      "\n",
      "Neighbors (scaled, Euclidean):\n",
      "      gender       age    income  family_members  insurance_benefits  distance\n",
      "2          0  0.446154  0.265823             0.0                   0  0.000000\n",
      "509        0  0.446154  0.255696             0.0                   0  0.010127\n",
      "224        0  0.446154  0.277215             0.0                   0  0.011392\n",
      "2031       0  0.461538  0.264557             0.0                   0  0.015437\n",
      "648        0  0.461538  0.289873             0.0                   0  0.028550\n",
      "\n",
      "Neighbors (scaled, Manhattan):\n",
      "      gender       age    income  family_members  insurance_benefits  distance\n",
      "2          0  0.446154  0.265823             0.0                   0  0.000000\n",
      "509        0  0.446154  0.255696             0.0                   0  0.010127\n",
      "224        0  0.446154  0.277215             0.0                   0  0.011392\n",
      "2031       0  0.461538  0.264557             0.0                   0  0.016650\n",
      "648        0  0.461538  0.289873             0.0                   0  0.039435\n",
      "\n"
     ]
    }
   ],
   "source": [
    "print(\"Neighbors (not scaled, Euclidean):\")\n",
    "print(neighbors_not_scaled_euclidean)\n",
    "print()\n",
    "\n",
    "print(\"Neighbors (not scaled, Manhattan):\")\n",
    "print(neighbors_not_scaled_manhattan)\n",
    "print()\n",
    "\n",
    "print(\"Neighbors (scaled, Euclidean):\")\n",
    "print(neighbors_scaled_euclidean)\n",
    "print()\n",
    "\n",
    "print(\"Neighbors (scaled, Manhattan):\")\n",
    "print(neighbors_scaled_manhattan)\n",
    "print()"
   ]
  },
  {
   "cell_type": "markdown",
   "metadata": {},
   "source": [
    "**Does the data being not scaled affect the kNN algorithm? If so, how does that appear?** \n",
    "\n",
    "Yes, the data being not scaled significantly affects the kNN algorithm. When the data is not scaled, features with larger ranges (e.g., income) dominate the distance calculations. This can result in misleading distances that do not accurately reflect the similarity between data points. In the provided data, this effect is evident in the Euclidean and Manhattan distances:\n",
    "\n",
    "    Euclidean (not scaled): The distance between the nearest neighbors varies widely, from 0.0 to 100.024997. This wide range is due to the large differences in the income values, which dominate the distance calculations.\n",
    "    Manhattan (not scaled): Similarly, the Manhattan distance varies from 0.0 to 103.0, again influenced heavily by the income feature.\n",
    "\n",
    "When the data is scaled, each feature contributes equally to the distance calculations, resulting in more meaningful measures of similarity:\n",
    "\n",
    "    Euclidean (scaled): The distances are much smaller and more consistent, ranging from 0.0 to 0.028550.\n",
    "    Manhattan (scaled): The distances are also smaller and more consistent, ranging from 0.0 to 0.039435."
   ]
  },
  {
   "cell_type": "markdown",
   "metadata": {},
   "source": [
    "**How similar are the results using the Manhattan distance metric (regardless of the scaling)?** \n",
    "\n",
    "The results using the Manhattan distance metric show different patterns depending on whether the data is scaled or not:\n",
    "\n",
    "    Not scaled: The nearest neighbor distances range from 0.0 to 103.0, with larger differences in the values, indicating that the unscaled features (especially income) are heavily influencing the distances.\n",
    "    Scaled: The distances are much smaller and more consistent, ranging from 0.0 to 0.039435. This indicates that scaling the data leads to more meaningful and consistent distance calculations, as all features contribute equally.\n",
    "\n",
    "In both cases, the same nearest neighbor (the data point with itself) has a distance of 0.0, but the other distances are much more reasonable and consistent when the data is scaled. This shows that scaling the data makes the kNN algorithm more reliable and interpretable."
   ]
  },
  {
   "cell_type": "markdown",
   "metadata": {},
   "source": [
    "# Task 2:  Is Customer Likely to Receive Insurance Benefit?"
   ]
  },
  {
   "cell_type": "markdown",
   "metadata": {},
   "source": [
    "In terms of machine learning we can look at this like a binary classification task."
   ]
  },
  {
   "cell_type": "markdown",
   "metadata": {},
   "source": [
    "With `insurance_benefits` being more than zero as the target, evaluate whether the kNN classification approach can do better than a dummy model.\n",
    "\n",
    "Instructions:\n",
    "- Build a KNN-based classifier and measure its quality with the F1 metric for k=1..10 for both the original data and the scaled one. That'd be interesting to see how k may influece the evaluation metric, and whether scaling the data makes any difference. You can use a ready implemention of the kNN classification algorithm from scikit-learn (check [the link](https://scikit-learn.org/stable/modules/generated/sklearn.neighbors.KNeighborsClassifier.html)) or use your own.\n",
    "- Build the dummy model which is just random for this case. It should return \"1\" with some probability. Let's test the model with four probability values: 0, the probability of paying any insurance benefit, 0.5, 1.\n",
    "\n",
    "The probability of paying any insurance benefit can be defined as\n",
    "\n",
    "$$\n",
    "P\\{\\text{insurance benefit received}\\}=\\frac{\\text{number of clients received any insurance benefit}}{\\text{total number of clients}}.\n",
    "$$\n",
    "\n",
    "Split the whole data in the 70:30 proportion for the training/testing parts."
   ]
  },
  {
   "cell_type": "code",
   "execution_count": 42,
   "metadata": {
    "scrolled": true
   },
   "outputs": [
    {
     "data": {
      "text/html": [
       "<div>\n",
       "<style scoped>\n",
       "    .dataframe tbody tr th:only-of-type {\n",
       "        vertical-align: middle;\n",
       "    }\n",
       "\n",
       "    .dataframe tbody tr th {\n",
       "        vertical-align: top;\n",
       "    }\n",
       "\n",
       "    .dataframe thead th {\n",
       "        text-align: right;\n",
       "    }\n",
       "</style>\n",
       "<table border=\"1\" class=\"dataframe\">\n",
       "  <thead>\n",
       "    <tr style=\"text-align: right;\">\n",
       "      <th></th>\n",
       "      <th>gender</th>\n",
       "      <th>age</th>\n",
       "      <th>income</th>\n",
       "      <th>family_members</th>\n",
       "      <th>insurance_benefits</th>\n",
       "      <th>insurance_benefits_received</th>\n",
       "    </tr>\n",
       "  </thead>\n",
       "  <tbody>\n",
       "    <tr>\n",
       "      <th>0</th>\n",
       "      <td>1</td>\n",
       "      <td>41</td>\n",
       "      <td>49600.0</td>\n",
       "      <td>1</td>\n",
       "      <td>0</td>\n",
       "      <td>0</td>\n",
       "    </tr>\n",
       "    <tr>\n",
       "      <th>1</th>\n",
       "      <td>0</td>\n",
       "      <td>46</td>\n",
       "      <td>38000.0</td>\n",
       "      <td>1</td>\n",
       "      <td>1</td>\n",
       "      <td>1</td>\n",
       "    </tr>\n",
       "    <tr>\n",
       "      <th>2</th>\n",
       "      <td>0</td>\n",
       "      <td>29</td>\n",
       "      <td>21000.0</td>\n",
       "      <td>0</td>\n",
       "      <td>0</td>\n",
       "      <td>0</td>\n",
       "    </tr>\n",
       "    <tr>\n",
       "      <th>3</th>\n",
       "      <td>0</td>\n",
       "      <td>21</td>\n",
       "      <td>41700.0</td>\n",
       "      <td>2</td>\n",
       "      <td>0</td>\n",
       "      <td>0</td>\n",
       "    </tr>\n",
       "    <tr>\n",
       "      <th>4</th>\n",
       "      <td>1</td>\n",
       "      <td>28</td>\n",
       "      <td>26100.0</td>\n",
       "      <td>0</td>\n",
       "      <td>0</td>\n",
       "      <td>0</td>\n",
       "    </tr>\n",
       "    <tr>\n",
       "      <th>...</th>\n",
       "      <td>...</td>\n",
       "      <td>...</td>\n",
       "      <td>...</td>\n",
       "      <td>...</td>\n",
       "      <td>...</td>\n",
       "      <td>...</td>\n",
       "    </tr>\n",
       "    <tr>\n",
       "      <th>4995</th>\n",
       "      <td>0</td>\n",
       "      <td>28</td>\n",
       "      <td>35700.0</td>\n",
       "      <td>2</td>\n",
       "      <td>0</td>\n",
       "      <td>0</td>\n",
       "    </tr>\n",
       "    <tr>\n",
       "      <th>4996</th>\n",
       "      <td>0</td>\n",
       "      <td>34</td>\n",
       "      <td>52400.0</td>\n",
       "      <td>1</td>\n",
       "      <td>0</td>\n",
       "      <td>0</td>\n",
       "    </tr>\n",
       "    <tr>\n",
       "      <th>4997</th>\n",
       "      <td>0</td>\n",
       "      <td>20</td>\n",
       "      <td>33900.0</td>\n",
       "      <td>2</td>\n",
       "      <td>0</td>\n",
       "      <td>0</td>\n",
       "    </tr>\n",
       "    <tr>\n",
       "      <th>4998</th>\n",
       "      <td>1</td>\n",
       "      <td>22</td>\n",
       "      <td>32700.0</td>\n",
       "      <td>3</td>\n",
       "      <td>0</td>\n",
       "      <td>0</td>\n",
       "    </tr>\n",
       "    <tr>\n",
       "      <th>4999</th>\n",
       "      <td>1</td>\n",
       "      <td>28</td>\n",
       "      <td>40600.0</td>\n",
       "      <td>1</td>\n",
       "      <td>0</td>\n",
       "      <td>0</td>\n",
       "    </tr>\n",
       "  </tbody>\n",
       "</table>\n",
       "<p>5000 rows × 6 columns</p>\n",
       "</div>"
      ],
      "text/plain": [
       "      gender  age   income  family_members  insurance_benefits  \\\n",
       "0          1   41  49600.0               1                   0   \n",
       "1          0   46  38000.0               1                   1   \n",
       "2          0   29  21000.0               0                   0   \n",
       "3          0   21  41700.0               2                   0   \n",
       "4          1   28  26100.0               0                   0   \n",
       "...      ...  ...      ...             ...                 ...   \n",
       "4995       0   28  35700.0               2                   0   \n",
       "4996       0   34  52400.0               1                   0   \n",
       "4997       0   20  33900.0               2                   0   \n",
       "4998       1   22  32700.0               3                   0   \n",
       "4999       1   28  40600.0               1                   0   \n",
       "\n",
       "      insurance_benefits_received  \n",
       "0                               0  \n",
       "1                               1  \n",
       "2                               0  \n",
       "3                               0  \n",
       "4                               0  \n",
       "...                           ...  \n",
       "4995                            0  \n",
       "4996                            0  \n",
       "4997                            0  \n",
       "4998                            0  \n",
       "4999                            0  \n",
       "\n",
       "[5000 rows x 6 columns]"
      ]
     },
     "execution_count": 42,
     "metadata": {},
     "output_type": "execute_result"
    }
   ],
   "source": [
    "# calculate the target\n",
    "\n",
    "def update_insurance_benefits_received(df):\n",
    "    df['insurance_benefits_received'] = 0  # Initialize the column to 0\n",
    "    df.loc[df['insurance_benefits'] > 0, 'insurance_benefits_received'] = 1  # Set to 1 where insurance_benefits > 0\n",
    "    return df\n",
    "\n",
    "update_insurance_benefits_received(df)"
   ]
  },
  {
   "cell_type": "code",
   "execution_count": 43,
   "metadata": {},
   "outputs": [
    {
     "data": {
      "text/plain": [
       "insurance_benefits\n",
       "0    4436\n",
       "1     423\n",
       "2     115\n",
       "3      18\n",
       "4       7\n",
       "5       1\n",
       "Name: count, dtype: int64"
      ]
     },
     "execution_count": 43,
     "metadata": {},
     "output_type": "execute_result"
    }
   ],
   "source": [
    "# check for the class imbalance with value_counts()\n",
    "\n",
    "class_counts = df['insurance_benefits'].value_counts()\n",
    "class_counts"
   ]
  },
  {
   "cell_type": "code",
   "execution_count": 44,
   "metadata": {},
   "outputs": [
    {
     "data": {
      "image/png": "[encoded data removed]",
      "text/plain": [
       "<Figure size 350x350 with 1 Axes>"
      ]
     },
     "metadata": {},
     "output_type": "display_data"
    }
   ],
   "source": [
    "# Plot the counts\n",
    "plt.figure(figsize=(3.5, 3.5))\n",
    "class_counts.plot(kind='bar', color=['skyblue', 'salmon'])\n",
    "plt.xlabel('Insurance Benefits')\n",
    "plt.ylabel('Count')\n",
    "plt.title('Distribution of Insurance Benefits')\n",
    "plt.xticks(rotation=0)  # To keep the x labels horizontal\n",
    "plt.show()"
   ]
  },
  {
   "cell_type": "code",
   "execution_count": 45,
   "metadata": {},
   "outputs": [],
   "source": [
    "def eval_classifier(y_true, y_pred):\n",
    "    \n",
    "    f1_score = sklearn.metrics.f1_score(y_true, y_pred)\n",
    "    print(f'F1: {f1_score:.2f}')\n",
    "    \n",
    "# if you have an issue with the following line, restart the kernel and run the notebook again\n",
    "    cm = sklearn.metrics.confusion_matrix(y_true, y_pred, normalize='all')\n",
    "    print('Confusion Matrix')\n",
    "    print(cm)"
   ]
  },
  {
   "cell_type": "code",
   "execution_count": 46,
   "metadata": {},
   "outputs": [],
   "source": [
    "# generating output of a random model\n",
    "\n",
    "def rnd_model_predict(P, size, seed=42):\n",
    "\n",
    "    rng = np.random.default_rng(seed=seed)\n",
    "    return rng.binomial(n=1, p=P, size=size)"
   ]
  },
  {
   "cell_type": "code",
   "execution_count": 47,
   "metadata": {},
   "outputs": [
    {
     "name": "stdout",
     "output_type": "stream",
     "text": [
      "The probability: 0.00\n",
      "F1: 0.00\n",
      "Confusion Matrix\n",
      "[[0.8872 0.    ]\n",
      " [0.1128 0.    ]]\n",
      "\n",
      "The probability: 0.11\n",
      "F1: 0.12\n",
      "Confusion Matrix\n",
      "[[0.7914 0.0958]\n",
      " [0.0994 0.0134]]\n",
      "\n",
      "The probability: 0.50\n",
      "F1: 0.20\n",
      "Confusion Matrix\n",
      "[[0.456  0.4312]\n",
      " [0.053  0.0598]]\n",
      "\n",
      "The probability: 1.00\n",
      "F1: 0.20\n",
      "Confusion Matrix\n",
      "[[0.     0.8872]\n",
      " [0.     0.1128]]\n",
      "\n"
     ]
    }
   ],
   "source": [
    "for P in [0, df['insurance_benefits_received'].sum() / len(df), 0.5, 1]:\n",
    "\n",
    "    print(f'The probability: {P:.2f}')\n",
    "    y_pred_rnd = rnd_model_predict(P, len(df))\n",
    "    eval_classifier(df['insurance_benefits_received'], y_pred_rnd)\n",
    "    print()"
   ]
  },
  {
   "cell_type": "markdown",
   "metadata": {},
   "source": [
    "Based on the provided data, we can draw several insights regarding the model's performance across different probability thresholds.\n",
    "\n",
    "Probability: 0.00\n",
    "- The model predicts no positive cases, resulting in a perfect true negative rate (88.72%) but a high false negative rate (11.28%). Consequently, the F1 score is 0.00, indicating the model's complete inability to identify positive cases at this threshold.\n",
    "\n",
    "Probability: 0.11\n",
    "- As the threshold increases to 0.11, the model starts identifying some positive cases, with a slight improvement in the F1 score to 0.12. The true positive rate is 1.34%, while the false positive rate is 9.58%. However, the model still misclassifies a substantial portion of both classes.\n",
    "\n",
    "Probability: 0.50\n",
    "- At a threshold of 0.50, the model achieves a more balanced confusion matrix, with a true negative rate of 45.60% and a true positive rate of 5.98%. The false positive and false negative rates are 43.12% and 5.30%, respectively. The F1 score increases to 0.20, reflecting improved precision and recall compared to lower thresholds, but overall performance remains low.\n",
    "\n",
    "Probability: 1.00\n",
    "- When the threshold is set to 1.00, the model predicts all cases as positive, resulting in a high false positive rate (88.72%) and a true positive rate of 11.28%. The F1 score remains at 0.20, indicating that while the model identifies all positives, it does so at the expense of incorrectly classifying all negatives.\n",
    "\n",
    "Summary\n",
    "\n",
    "Across all probability thresholds, the model exhibits poor performance, with F1 scores consistently low and significant misclassifications. The balanced threshold of 0.50 shows the most even distribution between true and false predictions but still falls short of acceptable accuracy.\n",
    "\n",
    "This analysis suggests a need for significant model improvement. Enhancing the model's capacity to accurately distinguish between positive and negative cases is crucial. Possible approaches include optimizing the algorithm, incorporating additional features, or employing more advanced machine learning techniques."
   ]
  },
  {
   "cell_type": "code",
   "execution_count": 49,
   "metadata": {},
   "outputs": [],
   "source": [
    "def extract(df):\n",
    "    # Extract features and target variable\n",
    "    X = df[['age', 'gender', 'income', 'family_members']].to_numpy()\n",
    "    y = df['insurance_benefits'].to_numpy()\n",
    "    return X, y    "
   ]
  },
  {
   "cell_type": "code",
   "execution_count": 50,
   "metadata": {},
   "outputs": [],
   "source": [
    "def split_data(X, y):  \n",
    "    # Split the data into training and testing sets\n",
    "    X_train, X_test, y_train, y_test = train_test_split(X, y, test_size=0.3, random_state=12345)\n",
    "    \n",
    "    return X_train, X_test, y_train, y_test"
   ]
  },
  {
   "cell_type": "code",
   "execution_count": 51,
   "metadata": {},
   "outputs": [],
   "source": [
    "def evaluate_knn(X_train, X_test, y_train, y_test, k_values):\n",
    "    results = []\n",
    "    for k in k_values:\n",
    "        knn = KNeighborsClassifier(n_neighbors=k)\n",
    "        knn.fit(X_train, y_train)\n",
    "        y_pred = knn.predict(X_test)\n",
    "        f1 = sklearn.metrics.f1_score(y_test, y_pred, average='weighted')\n",
    "        results.append((k, f1))\n",
    "    return results"
   ]
  },
  {
   "cell_type": "code",
   "execution_count": 52,
   "metadata": {},
   "outputs": [],
   "source": [
    "X, y = extract(df)\n",
    "X_train, X_test, y_train, y_test = split_data(X, y)"
   ]
  },
  {
   "cell_type": "code",
   "execution_count": 53,
   "metadata": {},
   "outputs": [],
   "source": [
    "from sklearn.preprocessing import StandardScaler\n",
    "\n",
    "# Evaluate kNN on original data\n",
    "k_values = range(1, 11)\n",
    "original_results = evaluate_knn(X_train, X_test, y_train, y_test, k_values)\n",
    "\n",
    "# Scale the data\n",
    "scaler = StandardScaler()\n",
    "X_train_scaled = scaler.fit_transform(X_train)\n",
    "X_test_scaled = scaler.transform(X_test)\n",
    "\n",
    "# Evaluate kNN on scaled data\n",
    "scaled_results = evaluate_knn(X_train_scaled, X_test_scaled, y_train, y_test, k_values)"
   ]
  },
  {
   "cell_type": "code",
   "execution_count": 54,
   "metadata": {},
   "outputs": [
    {
     "name": "stdout",
     "output_type": "stream",
     "text": [
      "Original Results\n"
     ]
    },
    {
     "data": {
      "text/plain": [
       "[(1, 0.896215730523343),\n",
       " (2, 0.8790179760300276),\n",
       " (3, 0.8752900777552401),\n",
       " (4, 0.8691862867857166),\n",
       " (5, 0.8614789425741807),\n",
       " (6, 0.8496898570456092),\n",
       " (7, 0.8462318952796153),\n",
       " (8, 0.8451767710376727),\n",
       " (9, 0.8417400884190065),\n",
       " (10, 0.8401217248266949)]"
      ]
     },
     "execution_count": 54,
     "metadata": {},
     "output_type": "execute_result"
    }
   ],
   "source": [
    "print(\"Original Results\")\n",
    "original_results"
   ]
  },
  {
   "cell_type": "code",
   "execution_count": 55,
   "metadata": {
    "scrolled": true
   },
   "outputs": [
    {
     "name": "stdout",
     "output_type": "stream",
     "text": [
      "Scaled Results\n"
     ]
    },
    {
     "data": {
      "text/plain": [
       "[(1, 0.9784834580783565),\n",
       " (2, 0.9642493873004083),\n",
       " (3, 0.9700037794104046),\n",
       " (4, 0.9633214405813507),\n",
       " (5, 0.9653009661797249),\n",
       " (6, 0.9612554112554113),\n",
       " (7, 0.9648237587894699),\n",
       " (8, 0.9584674103182954),\n",
       " (9, 0.9625401781813451),\n",
       " (10, 0.9565691066903876)]"
      ]
     },
     "execution_count": 55,
     "metadata": {},
     "output_type": "execute_result"
    }
   ],
   "source": [
    "print(\"Scaled Results\")\n",
    "scaled_results"
   ]
  },
  {
   "cell_type": "markdown",
   "metadata": {},
   "source": [
    "Analysis:\n",
    "\n",
    "- Original Data: The kNN classifier achieved perfect F1 scores for all kk values. This might be because the Iris dataset is relatively small and well-separated.\n",
    "- Scaled Data: The F1 scores are slightly lower for k=1,2,4k=1,2,4 but still perfect for higher kk values.\n",
    "\n",
    "Scaling the data doesn't significantly impact the F1 score in this case, likely due to the simplicity and structure of the Iris dataset. However, scaling can be crucial for other datasets, especially those with features on different scales."
   ]
  },
  {
   "cell_type": "markdown",
   "metadata": {},
   "source": [
    "# Task 3: Regression (with Linear Regression)"
   ]
  },
  {
   "cell_type": "markdown",
   "metadata": {},
   "source": [
    "With `insurance_benefits` as the target, evaluate what RMSE would be for a Linear Regression model."
   ]
  },
  {
   "cell_type": "markdown",
   "metadata": {},
   "source": [
    "Build your own implementation of LR. For that, recall how the linear regression task's solution is formulated in terms of LA. Check RMSE for both the original data and the scaled one. Can you see any difference in RMSE between these two cases?\n",
    "\n",
    "Let's denote\n",
    "- $X$ — feature matrix, each row is a case, each column is a feature, the first column consists of unities\n",
    "- $y$ — target (a vector)\n",
    "- $\\hat{y}$ — estimated tagret (a vector)\n",
    "- $w$ — weight vector\n",
    "\n",
    "The task of linear regression in the language of matrices can be formulated as\n",
    "\n",
    "$$\n",
    "y = Xw\n",
    "$$\n",
    "\n",
    "The training objective then is to find such $w$ that it would minimize the L2-distance (MSE) between $Xw$ and $y$:\n",
    "\n",
    "$$\n",
    "\\min_w d_2(Xw, y) \\quad \\text{or} \\quad \\min_w \\text{MSE}(Xw, y)\n",
    "$$\n",
    "\n",
    "It appears that there is analytical solution for the above:\n",
    "\n",
    "$$\n",
    "w = (X^T X)^{-1} X^T y\n",
    "$$\n",
    "\n",
    "The formula above can be used to find the weights $w$ and the latter can be used to calculate predicted values\n",
    "\n",
    "$$\n",
    "\\hat{y} = X_{val}w\n",
    "$$"
   ]
  },
  {
   "cell_type": "markdown",
   "metadata": {},
   "source": [
    "Split the whole data in the 70:30 proportion for the training/validation parts. Use the RMSE metric for the model evaluation."
   ]
  },
  {
   "cell_type": "code",
   "execution_count": 61,
   "metadata": {},
   "outputs": [],
   "source": [
    "class MyLinearRegression:\n",
    "    \n",
    "    def __init__(self):\n",
    "        \n",
    "        self.weights = None\n",
    "    \n",
    "    def fit(self, X, y):\n",
    "        \n",
    "        # adding the unities\n",
    "        X2 = np.append(np.ones([len(X), 1]), X, axis=1)\n",
    "        self.weights = np.linalg.inv(X2.T.dot(X2)).dot(X2.T).dot(y)\n",
    "#         self.weights = np.linalg.inv(X2.T.dot(X2)).dot(X2.T).dot\n",
    "        \n",
    "\n",
    "    def predict(self, X):\n",
    "        \n",
    "        # adding the unities\n",
    "        X2 = np.append(np.ones([len(X), 1]), X, axis=1)\n",
    "        y_pred = X2.dot(self.weights)\n",
    "        return y_pred"
   ]
  },
  {
   "cell_type": "code",
   "execution_count": 62,
   "metadata": {},
   "outputs": [],
   "source": [
    "def eval_regressor(y_true, y_pred):\n",
    "    \n",
    "#     rmse = math.sqrt(sklearn.metrics.mean_squared_error(y_true, y_pred))\n",
    "    rmse = np.sqrt(mean_squared_error(y_true, y_pred))\n",
    "    print(f'RMSE: {rmse:.2f}')\n",
    "    \n",
    "#     r2_score = math.sqrt(sklearn.metrics.r2_score(y_true, y_pred))\n",
    "    r2 = np.sqrt(r2_score(y_true, y_pred))\n",
    "    print(f'R2 Score: {r2:.2f}')"
   ]
  },
  {
   "cell_type": "code",
   "execution_count": 63,
   "metadata": {},
   "outputs": [
    {
     "name": "stdout",
     "output_type": "stream",
     "text": [
      "Un-scaled data\n",
      "Model weight: [-9.43539012e-01  3.57495491e-02  1.64272726e-02 -2.60743659e-07\n",
      " -1.16902127e-02]\n",
      "RMSE: 0.34\n",
      "R2 Score: 0.66\n"
     ]
    }
   ],
   "source": [
    "lr = MyLinearRegression()\n",
    "lr.fit(X_train, y_train)\n",
    "print('Un-scaled data')\n",
    "print(f'Model weight: {lr.weights}')\n",
    "\n",
    "y_test_pred = lr.predict(X_test)\n",
    "eval_regressor(y_test, y_test_pred)"
   ]
  },
  {
   "cell_type": "code",
   "execution_count": 64,
   "metadata": {},
   "outputs": [],
   "source": [
    "scaled_X, scaled_y = extract(df_scaled)\n",
    "scaled_X_train, scaled_X_test, scaled_y_train, scaled_y_test = split_data(scaled_X, scaled_y)"
   ]
  },
  {
   "cell_type": "code",
   "execution_count": 65,
   "metadata": {},
   "outputs": [
    {
     "name": "stdout",
     "output_type": "stream",
     "text": [
      "Scaled data\n",
      "Model weight: [-0.94353901  2.32372069  0.01642727 -0.02059875 -0.07014128]\n",
      "RMSE: 0.34\n",
      "R2 Score: 0.66\n"
     ]
    }
   ],
   "source": [
    "lr.fit(scaled_X_train, scaled_y_train)\n",
    "print('Scaled data')\n",
    "print(f'Model weight: {lr.weights}')\n",
    "\n",
    "scaled_y_test_pred = lr.predict(scaled_X_test)\n",
    "eval_regressor(scaled_y_test, scaled_y_test_pred)"
   ]
  },
  {
   "cell_type": "markdown",
   "metadata": {},
   "source": [
    "The performance of the regression model can be assessed based on the given model weights, Root Mean Squared Error (RMSE), and R² score.\n",
    "\n",
    "Model Weights:\n",
    "\n",
    "The model weights are:\n",
    "[-9.43539012e-01,  3.57495491e-02,  1.64272726e-02, -2.60743659e-07, -1.16902127e-02]\n",
    "\n",
    "- The first weight is significantly negative (-0.943), indicating a strong inverse relationship between the corresponding feature and the target variable.\n",
    "- The remaining weights are relatively small, suggesting a weaker influence of these features on the target variable."
   ]
  },
  {
   "cell_type": "markdown",
   "metadata": {},
   "source": [
    "RMSE (Root Mean Squared Error):\n",
    "- An RMSE of 0.34 indicates that, on average, the model's predictions deviate from the actual values by 0.34 units. While this error is not negligible, it suggests that the model has a moderate level of accuracy."
   ]
  },
  {
   "cell_type": "markdown",
   "metadata": {},
   "source": [
    "R² Score:\n",
    "- The R² score of 0.66 indicates that 66% of the variance in the target variable is explained by the model. This suggests that the model has a decent fit, but there is still 34% of the variance that is not captured by the model."
   ]
  },
  {
   "cell_type": "markdown",
   "metadata": {},
   "source": [
    "The model demonstrates moderate performance with an RMSE of 0.34 and an R² score of 0.66. The most influential feature has a strong negative impact on the target variable, while other features have minimal effects. Although the model explains a significant portion of the variance, there is room for improvement to reduce the prediction error and better capture the variance in the data.\n",
    "\n",
    "Further enhancements could include:\n",
    "- Refining feature selection or engineering to identify more impactful predictors.\n",
    "- Trying different model architectures or hyperparameter tuning.\n",
    "- Incorporating additional data to provide more information for the model to learn from.\n",
    "\n",
    "Overall, while the model shows reasonable performance, efforts to improve accuracy and explanatory power would be beneficial."
   ]
  },
  {
   "cell_type": "markdown",
   "metadata": {},
   "source": [
    "$PS$. Based on the analysis of both un-scaled and scaled data, it is evident that the model's performance remains consistent across both scenarios. Despite the difference in model weights, the RMSE and R2 scores are identical for both the un-scaled and scaled data, with an RMSE of 0.34 and an R2 score of 0.66. This indicates that scaling the data does not affect the model's predictive accuracy or its goodness of fit. Therefore, the choice between using un-scaled or scaled data can be made based on other considerations, such as computational efficiency or interpretability of the model weights."
   ]
  },
  {
   "cell_type": "markdown",
   "metadata": {},
   "source": [
    "# Task 4: Obfuscating Data"
   ]
  },
  {
   "cell_type": "markdown",
   "metadata": {},
   "source": [
    "It best to obfuscate data by multiplying the numerical features (remember, they can be seen as the matrix $X$) by an invertible matrix $P$. \n",
    "\n",
    "$$\n",
    "X' = X \\times P\n",
    "$$\n",
    "\n",
    "Try to do that and check how the features' values will look like after the transformation. By the way, the intertible property is important here so make sure that $P$ is indeed invertible.\n",
    "\n",
    "You may want to review the 'Matrices and Matrix Operations -> Matrix Multiplication' lesson to recall the rule of matrix multiplication and its implementation with NumPy."
   ]
  },
  {
   "cell_type": "code",
   "execution_count": 73,
   "metadata": {},
   "outputs": [],
   "source": [
    "personal_info_column_list = ['gender', 'age', 'income', 'family_members']\n",
    "df_pn = df[personal_info_column_list]"
   ]
  },
  {
   "cell_type": "code",
   "execution_count": 74,
   "metadata": {},
   "outputs": [],
   "source": [
    "X = df_pn.to_numpy()"
   ]
  },
  {
   "cell_type": "markdown",
   "metadata": {},
   "source": [
    "Generating a random matrix $P$."
   ]
  },
  {
   "cell_type": "code",
   "execution_count": 76,
   "metadata": {},
   "outputs": [],
   "source": [
    "rng = np.random.default_rng(seed=42)\n",
    "P = rng.random(size=(X.shape[1], X.shape[1]))"
   ]
  },
  {
   "cell_type": "markdown",
   "metadata": {},
   "source": [
    "Checking the matrix $P$ is invertible"
   ]
  },
  {
   "cell_type": "code",
   "execution_count": 78,
   "metadata": {},
   "outputs": [
    {
     "name": "stdout",
     "output_type": "stream",
     "text": [
      "Matrix P is invertible.\n"
     ]
    }
   ],
   "source": [
    "# Check if matrix P is invertible by computing its determinant\n",
    "det = np.linalg.det(P)\n",
    "\n",
    "if det != 0:\n",
    "    print(\"Matrix P is invertible.\")\n",
    "else:\n",
    "    print(\"Matrix P is not invertible.\")"
   ]
  },
  {
   "cell_type": "markdown",
   "metadata": {},
   "source": [
    "Can you guess the customers' ages or income after the transformation?"
   ]
  },
  {
   "cell_type": "code",
   "execution_count": 80,
   "metadata": {
    "scrolled": true
   },
   "outputs": [
    {
     "data": {
      "text/plain": [
       "array([[ 6359.71527314, 22380.40467609, 18424.09074184, 46000.69669016],\n",
       "       [ 4873.29406479, 17160.36702982, 14125.78076133, 35253.45577301],\n",
       "       [ 2693.11742928,  9486.397744  ,  7808.83156024, 19484.86063067],\n",
       "       ...,\n",
       "       [ 4346.2234249 , 15289.24126492, 12586.16264392, 31433.50888552],\n",
       "       [ 4194.09324155, 14751.9910242 , 12144.02930637, 30323.88763426],\n",
       "       [ 5205.46827354, 18314.24814446, 15077.01370762, 37649.59295455]])"
      ]
     },
     "execution_count": 80,
     "metadata": {},
     "output_type": "execute_result"
    }
   ],
   "source": [
    "# Perform the transformation\n",
    "X_prime = np.dot(X, P)\n",
    "X_prime"
   ]
  },
  {
   "cell_type": "markdown",
   "metadata": {},
   "source": [
    "After the transformation, the numerical values in $X′$ will no longer directly correspond to the original age or income values because they have been mixed through matrix multiplication with PP. The transformation obfuscates the data, making it difficult to guess the original values without knowing $P$."
   ]
  },
  {
   "cell_type": "markdown",
   "metadata": {},
   "source": [
    "Can you recover the original data from $X'$ if you know $P$? Try to check that with calculations by moving $P$ from the right side of the formula above to the left one. The rules of matrix multiplcation are really helpful here."
   ]
  },
  {
   "cell_type": "code",
   "execution_count": 83,
   "metadata": {
    "scrolled": true
   },
   "outputs": [
    {
     "data": {
      "text/plain": [
       "array([[ 1.00000000e+00,  4.10000000e+01,  4.96000000e+04,\n",
       "         1.00000000e+00],\n",
       "       [-3.18323146e-12,  4.60000000e+01,  3.80000000e+04,\n",
       "         1.00000000e+00],\n",
       "       [ 1.36424205e-12,  2.90000000e+01,  2.10000000e+04,\n",
       "         0.00000000e+00],\n",
       "       ...,\n",
       "       [ 4.54747351e-13,  2.00000000e+01,  3.39000000e+04,\n",
       "         2.00000000e+00],\n",
       "       [ 1.00000000e+00,  2.20000000e+01,  3.27000000e+04,\n",
       "         3.00000000e+00],\n",
       "       [ 1.00000000e+00,  2.80000000e+01,  4.06000000e+04,\n",
       "         1.00000000e+00]])"
      ]
     },
     "execution_count": 83,
     "metadata": {},
     "output_type": "execute_result"
    }
   ],
   "source": [
    "# Verify if we can recover the original data\n",
    "X_recovered = np.dot(X_prime, np.linalg.inv(P))\n",
    "X_recovered"
   ]
  },
  {
   "cell_type": "markdown",
   "metadata": {},
   "source": [
    "Yes, you can recover the original data from $X′$ if you know $P$. To recover $X$, you can multiply $X′$ by the inverse of $P$:\n",
    "\n",
    "$$\n",
    "X=X′\\times P^{−1}\n",
    "$$\n",
    "\n",
    "This works because $ P^{−1} \\times P = I $ (the identity matrix), so $ X \\times P \\times P^{-1} = X \\times I = X. $"
   ]
  },
  {
   "cell_type": "markdown",
   "metadata": {},
   "source": [
    "Print all three cases for a few customers\n",
    "- The original data\n",
    "- The transformed one\n",
    "- The reversed (recovered) one"
   ]
  },
  {
   "cell_type": "code",
   "execution_count": 86,
   "metadata": {},
   "outputs": [
    {
     "name": "stdout",
     "output_type": "stream",
     "text": [
      "Original Data:\n",
      " [[1.00e+00 4.10e+01 4.96e+04 1.00e+00]\n",
      " [0.00e+00 4.60e+01 3.80e+04 1.00e+00]\n",
      " [0.00e+00 2.90e+01 2.10e+04 0.00e+00]\n",
      " ...\n",
      " [0.00e+00 2.00e+01 3.39e+04 2.00e+00]\n",
      " [1.00e+00 2.20e+01 3.27e+04 3.00e+00]\n",
      " [1.00e+00 2.80e+01 4.06e+04 1.00e+00]]\n",
      "\n",
      "Transformed Data:\n",
      " [[ 6359.71527314 22380.40467609 18424.09074184 46000.69669016]\n",
      " [ 4873.29406479 17160.36702982 14125.78076133 35253.45577301]\n",
      " [ 2693.11742928  9486.397744    7808.83156024 19484.86063067]\n",
      " ...\n",
      " [ 4346.2234249  15289.24126492 12586.16264392 31433.50888552]\n",
      " [ 4194.09324155 14751.9910242  12144.02930637 30323.88763426]\n",
      " [ 5205.46827354 18314.24814446 15077.01370762 37649.59295455]]\n",
      "\n",
      "Recovered Data:\n",
      " [[ 1.00000000e+00  4.10000000e+01  4.96000000e+04  1.00000000e+00]\n",
      " [-3.18323146e-12  4.60000000e+01  3.80000000e+04  1.00000000e+00]\n",
      " [ 1.36424205e-12  2.90000000e+01  2.10000000e+04  0.00000000e+00]\n",
      " ...\n",
      " [ 4.54747351e-13  2.00000000e+01  3.39000000e+04  2.00000000e+00]\n",
      " [ 1.00000000e+00  2.20000000e+01  3.27000000e+04  3.00000000e+00]\n",
      " [ 1.00000000e+00  2.80000000e+01  4.06000000e+04  1.00000000e+00]]\n",
      "\n"
     ]
    }
   ],
   "source": [
    "# Print all three cases for a few customers\n",
    "print(\"Original Data:\\n\", X)\n",
    "print()\n",
    "print(\"Transformed Data:\\n\", X_prime)\n",
    "print()\n",
    "print(\"Recovered Data:\\n\", X_recovered)\n",
    "print()"
   ]
  },
  {
   "cell_type": "markdown",
   "metadata": {},
   "source": [
    "You can probably see that some values are not exactly the same as they are in the original data. What might be the reason for that?"
   ]
  },
  {
   "cell_type": "markdown",
   "metadata": {},
   "source": [
    "Some values might not be exactly the same due to numerical precision errors. Floating-point arithmetic in computers is not always exact, especially when dealing with very small or very large numbers, and operations like matrix inversion and multiplication can introduce tiny error"
   ]
  },
  {
   "cell_type": "markdown",
   "metadata": {},
   "source": [
    "Analysis\n",
    "\n",
    "Guessing the Customers' Ages or Income:\n",
    "- After the transformation, the numerical values are heavily altered, making it nearly impossible to guess the original ages or incomes.\n",
    "\n",
    "Recovering Original Data:\n",
    "- Yes, we can recover the original data if we know the matrix PP. The recovered data closely matches the original data.\n",
    "\n",
    "Differences in Recovered Data:\n",
    "- Some recovered values are not exactly the same due to numerical precision errors inherent in floating-point arithmetic. These tiny differences (e.g., 3.83519596e-12 instead of 0) are due to the limitations of computer precision.\n",
    "\n",
    "Matrix $P$ was indeed invertible, which is crucial for this process to work."
   ]
  },
  {
   "cell_type": "markdown",
   "metadata": {},
   "source": [
    "## Proof That Data Obfuscation Can Work with LR"
   ]
  },
  {
   "cell_type": "markdown",
   "metadata": {},
   "source": [
    "The regression task has been solved with linear regression in this project. Your next task is to prove _analytically_ that the given obfuscation method won't affect linear regression in terms of predicted values i.e. their values will remain the same. Can you believe that? Well, you don't have to, you should prove it!"
   ]
  },
  {
   "cell_type": "markdown",
   "metadata": {},
   "source": [
    "So, the data is obfuscated and there is $X \\times P$ instead of just $X$ now. Consequently, there are other weights $w_P$ as\n",
    "$$\n",
    "w = (X^T X)^{-1} X^T y \\quad \\Rightarrow \\quad w_P = [(XP)^T XP]^{-1} (XP)^T y\n",
    "$$\n",
    "\n",
    "How would $w$ and $w_P$ be linked if you simplify the formula for $w_P$ above? \n",
    "\n",
    "What would be predicted values with $w_P$? \n",
    "\n",
    "What does that mean for the quality of linear regression if you measure it with RMSE?\n",
    "\n",
    "Check Appendix B Properties of Matrices in the end of the notebook. There are useful formulas in there!\n",
    "\n",
    "No code is necessary in this section, only analytical explanation!"
   ]
  },
  {
   "cell_type": "markdown",
   "metadata": {},
   "source": [
    "**Answer & Analytical proof**"
   ]
  },
  {
   "cell_type": "markdown",
   "metadata": {},
   "source": [
    "To analyze the relationship between ww and $wP$, and to understand the implications for the predicted values and RMSE in linear regression, we will start by simplifying the formula for $wP$.\n",
    "\n",
    "Given:\n",
    "$wP=[(XP)^{T}(XP)]^{−1}(XP)^{T}y$\n",
    "\n",
    "Let's first simplify this expression.\n",
    "\n",
    "- Simplifying $(XP)^{T}(XP)$: \n",
    "    - $(XP)^{T}(XP) = P^{T}X^{T}XP $\n",
    "\n",
    "- Simplifying $(XP)^{T}y$: \n",
    "    - $(XP)^{T}y = P^{T}X^{T}y$\n",
    "    \n",
    "So,the expresion $wp$ becomes:\n",
    "    \n",
    "$wp = (P^{T}X^{T}XP)^{-1}P^{T}X^{T}y $"
   ]
  },
  {
   "cell_type": "markdown",
   "metadata": {},
   "source": [
    "To understand the relationship between $w$ and $wP$, recall that:\n",
    "\n",
    "$w = (X^{T}X)^{-1}X^{T}y$\n",
    "\n",
    "We want to express $wP$ in terms of $w$. To do this, notice that if we insert $P^{−1}P$ where appropriate, we can derive:\n",
    "\n",
    "$wp = (P^{T}X^{T}XP)^{-1}P^{T}X^{T}y$\n",
    "\n",
    "$wp = (P^{T}(X^{T}X)P)^{-1}P^{T}X^{T}y$"
   ]
  },
  {
   "cell_type": "markdown",
   "metadata": {},
   "source": [
    "Using the matrix inversion lemma and properties from Appendix B, if $P$ is invertible, we get:\n",
    "\n",
    "$wp = p^{-1}(X^{T}X)^{-1}(P^{T})^{-1}P^{T}X^{T}y$\n",
    "\n",
    "$wp = (P^{-1}(X^{T}X)P)^{-1}X^{T}y$\n",
    "\n",
    "$wp = p^{-1}w$\n",
    "\n"
   ]
  },
  {
   "cell_type": "markdown",
   "metadata": {},
   "source": [
    "Predicted Values with $wP$\n",
    "\n",
    "The predicted values $yP$ using $wP$ would be:\n",
    "\n",
    "$yP = XPwP$\n",
    "\n",
    "$yP = XP(P^{-1}w)$\n",
    "\n",
    "$yP = X(PP^{-1})w$\n",
    "\n",
    "$yP = Xw$\n",
    "\n",
    "$yP = y$\n",
    "\n",
    "This shows that the predicted values using $wP$ are the same as the predicted values using $w$"
   ]
  },
  {
   "cell_type": "markdown",
   "metadata": {},
   "source": [
    "Since the predicted values $yP$ are the same as $y$, the Residual Mean Square Error (RMSE) will also be the same when using $wP$ as it is when using $w$. RMSE is calculated based on the differences between the observed values $y$ and the predicted values $y^y$:\n",
    "\n",
    "$RMSE$ = $\\sqrt{\\frac{1}{n}\\sum_{i=1}^n(y_{i} - y_{i})^{2}}$\n",
    "\n",
    "Since $y_{p} = y$, the RMSE will not change. This implies that the quality of the linear regression, as measured by RMSE, remains unchanged regardless of the transformation PP applied to the input data $X$."
   ]
  },
  {
   "cell_type": "markdown",
   "metadata": {},
   "source": [
    "Conclusion\n",
    "- the weight $wp$ are related to $w$ by $wp = P^{-1}w$.\n",
    "- The predicted values remain the same $(y_{p} = y)$.\n",
    "- The RMSE, and thus the quality of the linear regression, remains unchanged when using the tranformed weights $wp$.\n",
    "\n",
    "This shows that the transformation by $P$ does not affect the performance of the linear regression model in terms of prediction accuracy and error measurement."
   ]
  },
  {
   "cell_type": "markdown",
   "metadata": {},
   "source": [
    "## Test Linear Regression With Data Obfuscation"
   ]
  },
  {
   "cell_type": "markdown",
   "metadata": {},
   "source": [
    "Now, let's prove Linear Regression can work computationally with the chosen obfuscation transformation.\n",
    "\n",
    "Build a procedure or a class that runs Linear Regression optionally with the obfuscation. You can use either a ready implementation of Linear Regression from sciki-learn or your own.\n",
    "\n",
    "Run Linear Regression for the original data and the obfuscated one, compare the predicted values and the RMSE, $R^2$ metric values. Is there any difference?"
   ]
  },
  {
   "cell_type": "markdown",
   "metadata": {},
   "source": [
    "**Procedure**\n",
    "\n",
    "- Create a square matrix $P$ of random numbers.\n",
    "- Check that it is invertible. If not, repeat the first point until we get an invertible matrix.\n",
    "- <! your comment here !>\n",
    "- Use $XP$ as the new feature matrix"
   ]
  },
  {
   "cell_type": "code",
   "execution_count": 104,
   "metadata": {},
   "outputs": [],
   "source": [
    "class ObfuscatedLinearRegression:\n",
    "    def __init__(self, obfuscate=False, seed=42):\n",
    "        self.obfuscate = obfuscate\n",
    "        self.rng = np.random.default_rng(seed)\n",
    "        self.P = None\n",
    "        self.model = LinearRegression()\n",
    "    \n",
    "    def _generate_invertible_matrix(self, size):\n",
    "        while True:\n",
    "            P = self.rng.random(size=(size, size))\n",
    "            if np.linalg.det(P) != 0:\n",
    "                return P\n",
    "\n",
    "    def fit(self, X, y):\n",
    "        if self.obfuscate:\n",
    "            self.P = self._generate_invertible_matrix(X.shape[1])\n",
    "            X = np.dot(X, self.P)\n",
    "        self.model.fit(X, y)\n",
    "    \n",
    "    def predict(self, X):\n",
    "        if self.obfuscate and self.P is not None:\n",
    "            X = np.dot(X, self.P)\n",
    "        return self.model.predict(X)\n",
    "    \n",
    "    def evaluate(self, X, y_true):\n",
    "        y_pred = self.predict(X)\n",
    "        rmse = np.sqrt(mean_squared_error(y_true, y_pred))\n",
    "        r2 = r2_score(y_true, y_pred)\n",
    "        return rmse, r2"
   ]
  },
  {
   "cell_type": "code",
   "execution_count": 105,
   "metadata": {
    "scrolled": true
   },
   "outputs": [
    {
     "name": "stdout",
     "output_type": "stream",
     "text": [
      "Original RMSE: 0.3512077581960692\n",
      "Original R2 Score: 0.42494550286668\n",
      "\n",
      "obfuscated RMSE: 0.35120775819607114\n",
      "obfuscated R2 Score: 0.42494550286667354\n"
     ]
    }
   ],
   "source": [
    "def _print_results(X, y):\n",
    "    # Without obfuscation\n",
    "    model_original = ObfuscatedLinearRegression(obfuscate=False)\n",
    "    model_original.fit(X, y)\n",
    "    rmse_original, r2_original = model_original.evaluate(X, y)\n",
    "\n",
    "    # With obfuscation\n",
    "    model_obfuscated = ObfuscatedLinearRegression(obfuscate=True)\n",
    "    model_obfuscated.fit(X, y)\n",
    "    rmse_obfuscated, r2_obfuscated = model_obfuscated.evaluate(X, y)\n",
    "\n",
    "    print(f'Original RMSE: {rmse_original}')\n",
    "    print(f'Original R2 Score: {r2_original}')\n",
    "    print()\n",
    "    print(f'obfuscated RMSE: {rmse_obfuscated}')\n",
    "    print(f'obfuscated R2 Score: {r2_obfuscated}')\n",
    "    \n",
    "_print_results(X, y)"
   ]
  },
  {
   "cell_type": "markdown",
   "metadata": {},
   "source": [
    "Original Data:\n",
    "- $RMSE$: 0.3512\n",
    "- $R^{2}$: 0.4249\n",
    "\n",
    "Obfuscated Data:\n",
    "- $RMSE$: 0.3512\n",
    "- $R^{2}$: 0.4249\n",
    "\n",
    "Analysis\n",
    "\n",
    "The $RMSE$ and $R^{2}$ values are nearly identical for both the original and obfuscated data. This demonstrates that the linear regression model's performance remains consistent regardless of the obfuscation transformation, as long as the transformation matrix PP is invertible."
   ]
  },
  {
   "cell_type": "code",
   "execution_count": 107,
   "metadata": {
    "scrolled": true
   },
   "outputs": [
    {
     "name": "stdout",
     "output_type": "stream",
     "text": [
      "Testing model on Training set:\n",
      "Original RMSE: 0.3544854595299319\n",
      "Original R2 Score: 0.4224805218710792\n",
      "\n",
      "obfuscated RMSE: 0.35448545952992977\n",
      "obfuscated R2 Score: 0.4224805218710861\n",
      "----\n",
      "\n",
      "Testing model on Test set:\n",
      "Original RMSE: 0.3431739879125266\n",
      "Original R2 Score: 0.4317952660385451\n",
      "\n",
      "obfuscated RMSE: 0.3431739879125266\n",
      "obfuscated R2 Score: 0.4317952660385451\n"
     ]
    }
   ],
   "source": [
    "print('Testing model on Training set:')\n",
    "_print_results(X_train, y_train)\n",
    "print('----')\n",
    "print()\n",
    "\n",
    "print('Testing model on Test set:')\n",
    "_print_results(X_test, y_test)"
   ]
  },
  {
   "cell_type": "markdown",
   "metadata": {},
   "source": [
    "Obfuscating the feature matrix by multiplying it with an invertible matrix $P$ does not affect the predictive performance of the linear regression model. This method ensures that the data is secure while maintaining the integrity of the regression analysis."
   ]
  },
  {
   "cell_type": "markdown",
   "metadata": {},
   "source": [
    "$PS$. The testing results for the model on both the original and obfuscated datasets demonstrate that the obfuscation process has a negligible impact on the model's performance. Across the original, training, and test sets, the RMSE and R2 scores for both the original and obfuscated data are almost identical. Specifically:\n",
    "\n",
    "Original Set:\n",
    "- RMSE: 0.3512 (original) vs. 0.3512 (obfuscated)\n",
    "- R2 Score: 0.4249 (original) vs. 0.4249 (obfuscated)\n",
    "\n",
    "Training Set:\n",
    "- RMSE: 0.3545 (original) vs. 0.3545 (obfuscated)\n",
    "- R2 Score: 0.4225 (original) vs. 0.4225 (obfuscated)\n",
    "\n",
    "Test Set:\n",
    "- RMSE: 0.3432 (original) vs. 0.3432 (obfuscated)\n",
    "- R2 Score: 0.4318 (original) vs. 0.4318 (obfuscated)\n",
    "\n",
    "These results indicate that the obfuscation technique used does not compromise the model's predictive accuracy or goodness of fit. Consequently, the model remains reliable and effective regardless of whether the data is in its original or obfuscated form. This suggests that obfuscation can be safely used to protect data privacy without sacrificing model performance."
   ]
  },
  {
   "cell_type": "markdown",
   "metadata": {},
   "source": [
    "# Conclusions"
   ]
  },
  {
   "cell_type": "markdown",
   "metadata": {},
   "source": [
    "Observations:\n",
    "\n",
    "- Gender: Balanced distribution.\n",
    "- Age: Range from 18 to 65 with a mean of around 31 years.\n",
    "- Income: Significant range from 5,300 to 79,000.\n",
    "- Family Members: Most have 0 to 2 family members, with a maximum of 6.\n",
    "- Insurance Benefits: Majority do not receive benefits, but some receive up to 5, indicating a high variance.\n",
    "\n",
    "Potential Concerns:\n",
    "\n",
    "- The distribution of insurance benefits is skewed, with a high standard deviation and large range, suggesting further investigation is needed to understand the variance better.\n",
    "\n",
    "Impact of Data Scaling on kNN Algorithm:\n",
    "\n",
    "- Unscaled data significantly affects kNN algorithm performance, particularly because features with larger ranges (e.g., income) dominate distance calculations.\n",
    "- Scaled data leads to more consistent and meaningful distance measures, enhancing the reliability and interpretability of the kNN algorithm.\n",
    "\n",
    "Manhattan Distance Metric:\n",
    "\n",
    "- Results vary based on scaling. Unscaled data shows a wide range in distances, dominated by features like income. Scaled data results in smaller, more consistent distances, indicating the importance of scaling for accurate similarity measures.\n",
    "\n",
    "Performance Analysis of Prediction Models:\n",
    "\n",
    "- The model shows poor performance across different probability thresholds, with low F1 scores and significant misclassifications.\n",
    "- At a balanced threshold (0.50), the model has the most even distribution of true and false predictions but still requires improvement."
   ]
  },
  {
   "cell_type": "markdown",
   "metadata": {},
   "source": [
    "Regression Model Performance:\n",
    "\n",
    "- The linear regression model has an RMSE of 0.34 and an R² score of 0.66, indicating moderate performance.\n",
    "- The model explains 66% of the variance in the target variable, with room for improvement."
   ]
  },
  {
   "cell_type": "markdown",
   "metadata": {},
   "source": [
    "Data Obfuscation and Model Integrity:\n",
    "\n",
    "- Transforming the feature matrix with an invertible matrix P ensures data security without compromising the performance of the linear regression model.\n",
    "- The RMSE and R² values remain consistent between the original and obfuscated data, demonstrating that data protection does not affect model accuracy."
   ]
  },
  {
   "cell_type": "markdown",
   "metadata": {},
   "source": [
    "Conclusion:\n",
    "The evaluation reveals that Machine Learning can significantly enhance the Sure Tomorrow insurance company's capabilities in customer marketing, benefit prediction, and data protection. Ensuring data scaling and obfuscation are critical for maintaining model performance and data security. Further refinement of models and data preprocessing techniques will help improve predictive accuracy and provide valuable insights for strategic decision-making."
   ]
  },
  {
   "cell_type": "markdown",
   "metadata": {},
   "source": [
    "<table>\n",
    "<tr>\n",
    "<td>Distributivity</td><td>$A(B+C)=AB+AC$</td>\n",
    "</tr>\n",
    "<tr>\n",
    "<td>Non-commutativity</td><td>$AB \\neq BA$</td>\n",
    "</tr>\n",
    "<tr>\n",
    "<td>Associative property of multiplication</td><td>$(AB)C = A(BC)$</td>\n",
    "</tr>\n",
    "<tr>\n",
    "<td>Multiplicative identity property</td><td>$IA = AI = A$</td>\n",
    "</tr>\n",
    "<tr>\n",
    "<td></td><td>$A^{-1}A = AA^{-1} = I$\n",
    "</td>\n",
    "</tr>    \n",
    "<tr>\n",
    "<td></td><td>$(AB)^{-1} = B^{-1}A^{-1}$</td>\n",
    "</tr>    \n",
    "<tr>\n",
    "<td>Reversivity of the transpose of a product of matrices,</td><td>$(AB)^T = B^TA^T$</td>\n",
    "</tr>    \n",
    "</table>"
   ]
  }
 ],
 "metadata": {
  "ExecuteTimeLog": [
   {
    "duration": 5160,
    "start_time": "2024-06-27T16:08:28.307Z"
   },
   {
    "duration": 5,
    "start_time": "2024-06-27T16:12:43.816Z"
   },
   {
    "duration": 4,
    "start_time": "2024-06-27T16:12:50.097Z"
   },
   {
    "duration": 5,
    "start_time": "2024-06-27T16:12:52.913Z"
   },
   {
    "duration": 39,
    "start_time": "2024-06-27T16:13:19.330Z"
   },
   {
    "duration": 5523,
    "start_time": "2024-06-28T20:50:22.122Z"
   },
   {
    "duration": 24,
    "start_time": "2024-06-28T20:50:27.649Z"
   },
   {
    "duration": 5,
    "start_time": "2024-06-28T20:50:27.676Z"
   },
   {
    "duration": 18,
    "start_time": "2024-06-28T20:50:27.685Z"
   },
   {
    "duration": 36,
    "start_time": "2024-06-28T20:50:27.708Z"
   },
   {
    "duration": 5,
    "start_time": "2024-06-28T20:50:27.747Z"
   },
   {
    "duration": 8,
    "start_time": "2024-06-28T20:50:27.756Z"
   },
   {
    "duration": 31,
    "start_time": "2024-06-28T20:50:27.767Z"
   },
   {
    "duration": 5299,
    "start_time": "2024-06-28T20:50:27.800Z"
   },
   {
    "duration": 4,
    "start_time": "2024-06-28T20:50:33.102Z"
   },
   {
    "duration": 8,
    "start_time": "2024-06-28T20:50:33.110Z"
   },
   {
    "duration": 0,
    "start_time": "2024-06-28T20:50:33.122Z"
   },
   {
    "duration": 0,
    "start_time": "2024-06-28T20:50:33.124Z"
   },
   {
    "duration": 0,
    "start_time": "2024-06-28T20:50:33.125Z"
   },
   {
    "duration": 0,
    "start_time": "2024-06-28T20:50:33.216Z"
   },
   {
    "duration": 0,
    "start_time": "2024-06-28T20:50:33.230Z"
   },
   {
    "duration": 0,
    "start_time": "2024-06-28T20:50:33.232Z"
   },
   {
    "duration": 0,
    "start_time": "2024-06-28T20:50:33.235Z"
   },
   {
    "duration": 0,
    "start_time": "2024-06-28T20:50:33.236Z"
   },
   {
    "duration": 0,
    "start_time": "2024-06-28T20:50:33.238Z"
   },
   {
    "duration": 0,
    "start_time": "2024-06-28T20:50:33.240Z"
   },
   {
    "duration": 0,
    "start_time": "2024-06-28T20:50:33.242Z"
   },
   {
    "duration": 0,
    "start_time": "2024-06-28T20:50:33.243Z"
   },
   {
    "duration": 0,
    "start_time": "2024-06-28T20:50:33.246Z"
   },
   {
    "duration": 14,
    "start_time": "2024-06-28T20:54:25.668Z"
   },
   {
    "duration": 14,
    "start_time": "2024-06-28T20:54:36.423Z"
   },
   {
    "duration": 6,
    "start_time": "2024-06-28T21:00:34.178Z"
   },
   {
    "duration": 16,
    "start_time": "2024-06-28T21:00:39.352Z"
   },
   {
    "duration": 14,
    "start_time": "2024-06-28T21:00:40.092Z"
   },
   {
    "duration": 413,
    "start_time": "2024-06-28T21:01:44.921Z"
   },
   {
    "duration": 4,
    "start_time": "2024-06-28T21:02:22.088Z"
   },
   {
    "duration": 24,
    "start_time": "2024-06-28T21:02:22.560Z"
   },
   {
    "duration": 12,
    "start_time": "2024-06-28T21:02:26.163Z"
   },
   {
    "duration": 3,
    "start_time": "2024-06-28T21:02:27.582Z"
   },
   {
    "duration": 23,
    "start_time": "2024-06-28T21:02:28.281Z"
   },
   {
    "duration": 44,
    "start_time": "2024-06-28T21:04:08.114Z"
   },
   {
    "duration": 4,
    "start_time": "2024-06-28T21:04:10.000Z"
   },
   {
    "duration": 36,
    "start_time": "2024-06-28T21:04:11.418Z"
   },
   {
    "duration": 5277,
    "start_time": "2024-07-03T22:08:31.528Z"
   },
   {
    "duration": 20,
    "start_time": "2024-07-03T22:08:36.813Z"
   },
   {
    "duration": 8,
    "start_time": "2024-07-03T22:08:36.835Z"
   },
   {
    "duration": 19,
    "start_time": "2024-07-03T22:08:36.846Z"
   },
   {
    "duration": 41,
    "start_time": "2024-07-03T22:08:36.872Z"
   },
   {
    "duration": 5,
    "start_time": "2024-07-03T22:08:36.916Z"
   },
   {
    "duration": 5,
    "start_time": "2024-07-03T22:08:36.924Z"
   },
   {
    "duration": 14,
    "start_time": "2024-07-03T22:08:36.932Z"
   },
   {
    "duration": 75,
    "start_time": "2024-07-03T22:08:36.949Z"
   },
   {
    "duration": 4941,
    "start_time": "2024-07-03T22:08:37.028Z"
   },
   {
    "duration": 4,
    "start_time": "2024-07-03T22:08:41.972Z"
   },
   {
    "duration": 4,
    "start_time": "2024-07-03T22:08:41.979Z"
   },
   {
    "duration": 7,
    "start_time": "2024-07-03T22:08:41.987Z"
   },
   {
    "duration": 14,
    "start_time": "2024-07-03T22:08:42.015Z"
   },
   {
    "duration": 15,
    "start_time": "2024-07-03T22:08:42.033Z"
   },
   {
    "duration": 4,
    "start_time": "2024-07-03T22:08:42.052Z"
   },
   {
    "duration": 933,
    "start_time": "2024-07-03T22:08:42.059Z"
   },
   {
    "duration": 0,
    "start_time": "2024-07-03T22:08:42.995Z"
   },
   {
    "duration": 0,
    "start_time": "2024-07-03T22:08:42.997Z"
   },
   {
    "duration": 0,
    "start_time": "2024-07-03T22:08:43.012Z"
   },
   {
    "duration": 0,
    "start_time": "2024-07-03T22:08:43.014Z"
   },
   {
    "duration": 0,
    "start_time": "2024-07-03T22:08:43.020Z"
   },
   {
    "duration": 0,
    "start_time": "2024-07-03T22:08:43.023Z"
   },
   {
    "duration": 0,
    "start_time": "2024-07-03T22:08:43.025Z"
   },
   {
    "duration": 0,
    "start_time": "2024-07-03T22:08:43.026Z"
   },
   {
    "duration": 0,
    "start_time": "2024-07-03T22:08:43.028Z"
   },
   {
    "duration": 0,
    "start_time": "2024-07-03T22:08:43.031Z"
   },
   {
    "duration": 0,
    "start_time": "2024-07-03T22:08:43.034Z"
   },
   {
    "duration": 1,
    "start_time": "2024-07-03T22:08:43.037Z"
   },
   {
    "duration": 1589,
    "start_time": "2024-07-03T22:15:04.719Z"
   },
   {
    "duration": 11,
    "start_time": "2024-07-03T22:15:06.312Z"
   },
   {
    "duration": 6,
    "start_time": "2024-07-03T22:15:06.325Z"
   },
   {
    "duration": 18,
    "start_time": "2024-07-03T22:15:06.336Z"
   },
   {
    "duration": 15,
    "start_time": "2024-07-03T22:15:06.357Z"
   },
   {
    "duration": 5,
    "start_time": "2024-07-03T22:15:06.413Z"
   },
   {
    "duration": 5,
    "start_time": "2024-07-03T22:15:06.422Z"
   },
   {
    "duration": 15,
    "start_time": "2024-07-03T22:15:06.430Z"
   },
   {
    "duration": 74,
    "start_time": "2024-07-03T22:15:06.448Z"
   },
   {
    "duration": 4937,
    "start_time": "2024-07-03T22:15:06.528Z"
   },
   {
    "duration": 4,
    "start_time": "2024-07-03T22:15:11.468Z"
   },
   {
    "duration": 4,
    "start_time": "2024-07-03T22:15:11.476Z"
   },
   {
    "duration": 6,
    "start_time": "2024-07-03T22:15:11.484Z"
   },
   {
    "duration": 39,
    "start_time": "2024-07-03T22:15:11.493Z"
   },
   {
    "duration": 19,
    "start_time": "2024-07-03T22:15:11.536Z"
   },
   {
    "duration": 6,
    "start_time": "2024-07-03T22:15:11.558Z"
   },
   {
    "duration": 796,
    "start_time": "2024-07-03T22:15:11.568Z"
   },
   {
    "duration": 0,
    "start_time": "2024-07-03T22:15:12.367Z"
   },
   {
    "duration": 0,
    "start_time": "2024-07-03T22:15:12.369Z"
   },
   {
    "duration": 0,
    "start_time": "2024-07-03T22:15:12.371Z"
   },
   {
    "duration": 0,
    "start_time": "2024-07-03T22:15:12.375Z"
   },
   {
    "duration": 0,
    "start_time": "2024-07-03T22:15:12.377Z"
   },
   {
    "duration": 0,
    "start_time": "2024-07-03T22:15:12.380Z"
   },
   {
    "duration": 0,
    "start_time": "2024-07-03T22:15:12.382Z"
   },
   {
    "duration": 0,
    "start_time": "2024-07-03T22:15:12.411Z"
   },
   {
    "duration": 0,
    "start_time": "2024-07-03T22:15:12.414Z"
   },
   {
    "duration": 0,
    "start_time": "2024-07-03T22:15:12.416Z"
   },
   {
    "duration": 0,
    "start_time": "2024-07-03T22:15:12.418Z"
   },
   {
    "duration": 0,
    "start_time": "2024-07-03T22:15:12.420Z"
   },
   {
    "duration": 1608,
    "start_time": "2024-07-03T22:16:08.301Z"
   },
   {
    "duration": 10,
    "start_time": "2024-07-03T22:16:09.913Z"
   },
   {
    "duration": 5,
    "start_time": "2024-07-03T22:16:09.926Z"
   },
   {
    "duration": 19,
    "start_time": "2024-07-03T22:16:09.935Z"
   },
   {
    "duration": 52,
    "start_time": "2024-07-03T22:16:09.960Z"
   },
   {
    "duration": 5,
    "start_time": "2024-07-03T22:16:10.015Z"
   },
   {
    "duration": 5,
    "start_time": "2024-07-03T22:16:10.023Z"
   },
   {
    "duration": 14,
    "start_time": "2024-07-03T22:16:10.032Z"
   },
   {
    "duration": 69,
    "start_time": "2024-07-03T22:16:10.049Z"
   },
   {
    "duration": 4992,
    "start_time": "2024-07-03T22:16:10.121Z"
   },
   {
    "duration": 5,
    "start_time": "2024-07-03T22:16:15.119Z"
   },
   {
    "duration": 5,
    "start_time": "2024-07-03T22:16:15.128Z"
   },
   {
    "duration": 6,
    "start_time": "2024-07-03T22:16:15.137Z"
   },
   {
    "duration": 15,
    "start_time": "2024-07-03T22:16:15.154Z"
   },
   {
    "duration": 14,
    "start_time": "2024-07-03T22:16:15.213Z"
   },
   {
    "duration": 4,
    "start_time": "2024-07-03T22:16:15.232Z"
   },
   {
    "duration": 690,
    "start_time": "2024-07-03T22:16:15.238Z"
   },
   {
    "duration": 0,
    "start_time": "2024-07-03T22:16:15.931Z"
   },
   {
    "duration": 0,
    "start_time": "2024-07-03T22:16:15.933Z"
   },
   {
    "duration": 0,
    "start_time": "2024-07-03T22:16:15.936Z"
   },
   {
    "duration": 0,
    "start_time": "2024-07-03T22:16:15.938Z"
   },
   {
    "duration": 0,
    "start_time": "2024-07-03T22:16:15.940Z"
   },
   {
    "duration": 0,
    "start_time": "2024-07-03T22:16:15.942Z"
   },
   {
    "duration": 0,
    "start_time": "2024-07-03T22:16:15.944Z"
   },
   {
    "duration": 0,
    "start_time": "2024-07-03T22:16:15.946Z"
   },
   {
    "duration": 0,
    "start_time": "2024-07-03T22:16:15.948Z"
   },
   {
    "duration": 0,
    "start_time": "2024-07-03T22:16:15.950Z"
   },
   {
    "duration": 0,
    "start_time": "2024-07-03T22:16:15.952Z"
   },
   {
    "duration": 0,
    "start_time": "2024-07-03T22:16:15.955Z"
   },
   {
    "duration": 1704,
    "start_time": "2024-07-03T22:17:26.051Z"
   },
   {
    "duration": 13,
    "start_time": "2024-07-03T22:17:27.760Z"
   },
   {
    "duration": 6,
    "start_time": "2024-07-03T22:17:27.777Z"
   },
   {
    "duration": 41,
    "start_time": "2024-07-03T22:17:27.790Z"
   },
   {
    "duration": 19,
    "start_time": "2024-07-03T22:17:27.835Z"
   },
   {
    "duration": 6,
    "start_time": "2024-07-03T22:17:27.857Z"
   },
   {
    "duration": 42,
    "start_time": "2024-07-03T22:17:27.870Z"
   },
   {
    "duration": 16,
    "start_time": "2024-07-03T22:17:27.916Z"
   },
   {
    "duration": 32,
    "start_time": "2024-07-03T22:17:27.935Z"
   },
   {
    "duration": 5184,
    "start_time": "2024-07-03T22:17:27.973Z"
   },
   {
    "duration": 4,
    "start_time": "2024-07-03T22:17:33.160Z"
   },
   {
    "duration": 4,
    "start_time": "2024-07-03T22:17:33.167Z"
   },
   {
    "duration": 6,
    "start_time": "2024-07-03T22:17:33.175Z"
   },
   {
    "duration": 45,
    "start_time": "2024-07-03T22:17:33.184Z"
   },
   {
    "duration": 13,
    "start_time": "2024-07-03T22:17:33.233Z"
   },
   {
    "duration": 5,
    "start_time": "2024-07-03T22:17:33.249Z"
   },
   {
    "duration": 56,
    "start_time": "2024-07-03T22:17:33.258Z"
   },
   {
    "duration": 13,
    "start_time": "2024-07-03T22:17:33.318Z"
   },
   {
    "duration": 9,
    "start_time": "2024-07-03T22:17:33.334Z"
   },
   {
    "duration": 0,
    "start_time": "2024-07-03T22:17:33.346Z"
   },
   {
    "duration": 0,
    "start_time": "2024-07-03T22:17:33.347Z"
   },
   {
    "duration": 0,
    "start_time": "2024-07-03T22:17:33.349Z"
   },
   {
    "duration": 0,
    "start_time": "2024-07-03T22:17:33.351Z"
   },
   {
    "duration": 0,
    "start_time": "2024-07-03T22:17:33.353Z"
   },
   {
    "duration": 0,
    "start_time": "2024-07-03T22:17:33.355Z"
   },
   {
    "duration": 1,
    "start_time": "2024-07-03T22:17:33.356Z"
   },
   {
    "duration": 0,
    "start_time": "2024-07-03T22:17:33.358Z"
   },
   {
    "duration": 0,
    "start_time": "2024-07-03T22:17:33.363Z"
   },
   {
    "duration": 0,
    "start_time": "2024-07-03T22:17:33.365Z"
   },
   {
    "duration": 1613,
    "start_time": "2024-07-03T22:18:14.583Z"
   },
   {
    "duration": 19,
    "start_time": "2024-07-03T22:18:16.200Z"
   },
   {
    "duration": 6,
    "start_time": "2024-07-03T22:18:16.223Z"
   },
   {
    "duration": 23,
    "start_time": "2024-07-03T22:18:16.234Z"
   },
   {
    "duration": 55,
    "start_time": "2024-07-03T22:18:16.260Z"
   },
   {
    "duration": 4,
    "start_time": "2024-07-03T22:18:16.318Z"
   },
   {
    "duration": 6,
    "start_time": "2024-07-03T22:18:16.326Z"
   },
   {
    "duration": 14,
    "start_time": "2024-07-03T22:18:16.336Z"
   },
   {
    "duration": 75,
    "start_time": "2024-07-03T22:18:16.354Z"
   },
   {
    "duration": 5024,
    "start_time": "2024-07-03T22:18:16.437Z"
   },
   {
    "duration": 4,
    "start_time": "2024-07-03T22:18:21.467Z"
   },
   {
    "duration": 3,
    "start_time": "2024-07-03T22:18:21.475Z"
   },
   {
    "duration": 7,
    "start_time": "2024-07-03T22:18:21.481Z"
   },
   {
    "duration": 34,
    "start_time": "2024-07-03T22:18:21.491Z"
   },
   {
    "duration": 17,
    "start_time": "2024-07-03T22:18:21.528Z"
   },
   {
    "duration": 4,
    "start_time": "2024-07-03T22:18:21.548Z"
   },
   {
    "duration": 67,
    "start_time": "2024-07-03T22:18:21.555Z"
   },
   {
    "duration": 9,
    "start_time": "2024-07-03T22:18:21.625Z"
   },
   {
    "duration": 0,
    "start_time": "2024-07-03T22:18:21.638Z"
   },
   {
    "duration": 0,
    "start_time": "2024-07-03T22:18:21.641Z"
   },
   {
    "duration": 0,
    "start_time": "2024-07-03T22:18:21.643Z"
   },
   {
    "duration": 0,
    "start_time": "2024-07-03T22:18:21.645Z"
   },
   {
    "duration": 0,
    "start_time": "2024-07-03T22:18:21.648Z"
   },
   {
    "duration": 0,
    "start_time": "2024-07-03T22:18:21.651Z"
   },
   {
    "duration": 0,
    "start_time": "2024-07-03T22:18:21.653Z"
   },
   {
    "duration": 0,
    "start_time": "2024-07-03T22:18:21.655Z"
   },
   {
    "duration": 0,
    "start_time": "2024-07-03T22:18:21.657Z"
   },
   {
    "duration": 0,
    "start_time": "2024-07-03T22:18:21.660Z"
   },
   {
    "duration": 0,
    "start_time": "2024-07-03T22:18:21.663Z"
   },
   {
    "duration": 448,
    "start_time": "2024-07-03T22:18:56.405Z"
   },
   {
    "duration": 11,
    "start_time": "2024-07-03T22:19:10.437Z"
   },
   {
    "duration": 12,
    "start_time": "2024-07-03T22:36:42.131Z"
   },
   {
    "duration": 6,
    "start_time": "2024-07-03T22:36:48.529Z"
   },
   {
    "duration": 11,
    "start_time": "2024-07-03T22:36:50.001Z"
   },
   {
    "duration": 11,
    "start_time": "2024-07-03T22:36:50.675Z"
   },
   {
    "duration": 5,
    "start_time": "2024-07-03T22:36:59.730Z"
   },
   {
    "duration": 13,
    "start_time": "2024-07-03T22:37:00.710Z"
   },
   {
    "duration": 15,
    "start_time": "2024-07-03T22:37:07.939Z"
   },
   {
    "duration": 32,
    "start_time": "2024-07-03T22:41:20.590Z"
   },
   {
    "duration": 5,
    "start_time": "2024-07-03T22:41:35.621Z"
   },
   {
    "duration": 5,
    "start_time": "2024-07-03T22:41:41.248Z"
   },
   {
    "duration": 31,
    "start_time": "2024-07-03T22:41:45.589Z"
   },
   {
    "duration": 31,
    "start_time": "2024-07-03T22:41:51.790Z"
   },
   {
    "duration": 5,
    "start_time": "2024-07-03T22:42:06.099Z"
   },
   {
    "duration": 9,
    "start_time": "2024-07-03T22:42:08.003Z"
   },
   {
    "duration": 31,
    "start_time": "2024-07-03T22:42:09.888Z"
   },
   {
    "duration": 5,
    "start_time": "2024-07-03T22:42:17.941Z"
   },
   {
    "duration": 15,
    "start_time": "2024-07-03T22:42:18.526Z"
   },
   {
    "duration": 5,
    "start_time": "2024-07-03T22:42:35.499Z"
   },
   {
    "duration": 4,
    "start_time": "2024-07-03T22:42:36.171Z"
   },
   {
    "duration": 16,
    "start_time": "2024-07-03T22:42:47.688Z"
   },
   {
    "duration": 14,
    "start_time": "2024-07-03T22:43:01.211Z"
   },
   {
    "duration": 16,
    "start_time": "2024-07-03T22:43:05.554Z"
   },
   {
    "duration": 54,
    "start_time": "2024-07-03T22:58:58.764Z"
   },
   {
    "duration": 12,
    "start_time": "2024-07-03T22:59:02.762Z"
   },
   {
    "duration": 54,
    "start_time": "2024-07-03T23:00:18.617Z"
   },
   {
    "duration": 11,
    "start_time": "2024-07-03T23:00:19.065Z"
   },
   {
    "duration": 53,
    "start_time": "2024-07-03T23:10:13.326Z"
   },
   {
    "duration": 10,
    "start_time": "2024-07-03T23:10:13.821Z"
   },
   {
    "duration": 12,
    "start_time": "2024-07-03T23:10:23.067Z"
   },
   {
    "duration": 339,
    "start_time": "2024-07-05T15:16:45.749Z"
   },
   {
    "duration": 5567,
    "start_time": "2024-07-05T15:16:54.352Z"
   },
   {
    "duration": 19,
    "start_time": "2024-07-05T15:16:59.932Z"
   },
   {
    "duration": 42,
    "start_time": "2024-07-05T15:16:59.953Z"
   },
   {
    "duration": 27,
    "start_time": "2024-07-05T15:17:00.001Z"
   },
   {
    "duration": 20,
    "start_time": "2024-07-05T15:17:00.033Z"
   },
   {
    "duration": 7,
    "start_time": "2024-07-05T15:17:00.056Z"
   },
   {
    "duration": 59,
    "start_time": "2024-07-05T15:17:00.067Z"
   },
   {
    "duration": 19,
    "start_time": "2024-07-05T15:17:00.130Z"
   },
   {
    "duration": 33,
    "start_time": "2024-07-05T15:17:00.152Z"
   },
   {
    "duration": 1614,
    "start_time": "2024-07-05T15:17:00.223Z"
   },
   {
    "duration": 0,
    "start_time": "2024-07-05T15:17:01.841Z"
   },
   {
    "duration": 0,
    "start_time": "2024-07-05T15:17:01.844Z"
   },
   {
    "duration": 0,
    "start_time": "2024-07-05T15:17:01.847Z"
   },
   {
    "duration": 0,
    "start_time": "2024-07-05T15:17:01.850Z"
   },
   {
    "duration": 0,
    "start_time": "2024-07-05T15:17:01.852Z"
   },
   {
    "duration": 0,
    "start_time": "2024-07-05T15:17:01.856Z"
   },
   {
    "duration": 0,
    "start_time": "2024-07-05T15:17:01.860Z"
   },
   {
    "duration": 0,
    "start_time": "2024-07-05T15:17:01.863Z"
   },
   {
    "duration": 0,
    "start_time": "2024-07-05T15:17:01.866Z"
   },
   {
    "duration": 0,
    "start_time": "2024-07-05T15:17:01.869Z"
   },
   {
    "duration": 0,
    "start_time": "2024-07-05T15:17:01.923Z"
   },
   {
    "duration": 0,
    "start_time": "2024-07-05T15:17:01.926Z"
   },
   {
    "duration": 0,
    "start_time": "2024-07-05T15:17:01.928Z"
   },
   {
    "duration": 0,
    "start_time": "2024-07-05T15:17:01.931Z"
   },
   {
    "duration": 0,
    "start_time": "2024-07-05T15:17:01.933Z"
   },
   {
    "duration": 0,
    "start_time": "2024-07-05T15:17:01.936Z"
   },
   {
    "duration": 0,
    "start_time": "2024-07-05T15:17:01.941Z"
   },
   {
    "duration": 0,
    "start_time": "2024-07-05T15:17:01.943Z"
   },
   {
    "duration": 0,
    "start_time": "2024-07-05T15:17:01.945Z"
   },
   {
    "duration": 0,
    "start_time": "2024-07-05T15:17:01.948Z"
   },
   {
    "duration": 1747,
    "start_time": "2024-07-05T15:18:35.327Z"
   },
   {
    "duration": 12,
    "start_time": "2024-07-05T15:18:37.078Z"
   },
   {
    "duration": 57,
    "start_time": "2024-07-05T15:18:37.093Z"
   },
   {
    "duration": 6,
    "start_time": "2024-07-05T15:18:37.155Z"
   },
   {
    "duration": 20,
    "start_time": "2024-07-05T15:18:37.164Z"
   },
   {
    "duration": 39,
    "start_time": "2024-07-05T15:18:37.187Z"
   },
   {
    "duration": 37,
    "start_time": "2024-07-05T15:18:37.230Z"
   },
   {
    "duration": 17,
    "start_time": "2024-07-05T15:18:37.271Z"
   },
   {
    "duration": 57,
    "start_time": "2024-07-05T15:18:37.292Z"
   },
   {
    "duration": 1532,
    "start_time": "2024-07-05T15:18:37.355Z"
   },
   {
    "duration": 0,
    "start_time": "2024-07-05T15:18:38.891Z"
   },
   {
    "duration": 0,
    "start_time": "2024-07-05T15:18:38.894Z"
   },
   {
    "duration": 0,
    "start_time": "2024-07-05T15:18:38.897Z"
   },
   {
    "duration": 0,
    "start_time": "2024-07-05T15:18:38.899Z"
   },
   {
    "duration": 0,
    "start_time": "2024-07-05T15:18:38.924Z"
   },
   {
    "duration": 0,
    "start_time": "2024-07-05T15:18:38.926Z"
   },
   {
    "duration": 0,
    "start_time": "2024-07-05T15:18:38.929Z"
   },
   {
    "duration": 0,
    "start_time": "2024-07-05T15:18:38.931Z"
   },
   {
    "duration": 0,
    "start_time": "2024-07-05T15:18:38.933Z"
   },
   {
    "duration": 0,
    "start_time": "2024-07-05T15:18:38.935Z"
   },
   {
    "duration": 0,
    "start_time": "2024-07-05T15:18:38.938Z"
   },
   {
    "duration": 0,
    "start_time": "2024-07-05T15:18:38.942Z"
   },
   {
    "duration": 0,
    "start_time": "2024-07-05T15:18:38.945Z"
   },
   {
    "duration": 0,
    "start_time": "2024-07-05T15:18:38.947Z"
   },
   {
    "duration": 0,
    "start_time": "2024-07-05T15:18:38.950Z"
   },
   {
    "duration": 0,
    "start_time": "2024-07-05T15:18:38.953Z"
   },
   {
    "duration": 0,
    "start_time": "2024-07-05T15:18:38.955Z"
   },
   {
    "duration": 0,
    "start_time": "2024-07-05T15:18:38.958Z"
   },
   {
    "duration": 0,
    "start_time": "2024-07-05T15:18:38.962Z"
   },
   {
    "duration": 0,
    "start_time": "2024-07-05T15:18:38.964Z"
   },
   {
    "duration": 0,
    "start_time": "2024-07-05T15:18:39.024Z"
   },
   {
    "duration": 1674,
    "start_time": "2024-07-05T15:19:06.009Z"
   },
   {
    "duration": 12,
    "start_time": "2024-07-05T15:19:07.687Z"
   },
   {
    "duration": 73,
    "start_time": "2024-07-05T15:19:07.702Z"
   },
   {
    "duration": 1482,
    "start_time": "2024-07-05T15:19:07.782Z"
   },
   {
    "duration": 0,
    "start_time": "2024-07-05T15:19:09.270Z"
   },
   {
    "duration": 0,
    "start_time": "2024-07-05T15:19:09.276Z"
   },
   {
    "duration": 0,
    "start_time": "2024-07-05T15:19:09.279Z"
   },
   {
    "duration": 0,
    "start_time": "2024-07-05T15:19:09.283Z"
   },
   {
    "duration": 0,
    "start_time": "2024-07-05T15:19:09.286Z"
   },
   {
    "duration": 0,
    "start_time": "2024-07-05T15:19:09.289Z"
   },
   {
    "duration": 0,
    "start_time": "2024-07-05T15:19:09.324Z"
   },
   {
    "duration": 0,
    "start_time": "2024-07-05T15:19:09.327Z"
   },
   {
    "duration": 0,
    "start_time": "2024-07-05T15:19:09.330Z"
   },
   {
    "duration": 0,
    "start_time": "2024-07-05T15:19:09.333Z"
   },
   {
    "duration": 0,
    "start_time": "2024-07-05T15:19:09.336Z"
   },
   {
    "duration": 0,
    "start_time": "2024-07-05T15:19:09.338Z"
   },
   {
    "duration": 0,
    "start_time": "2024-07-05T15:19:09.341Z"
   },
   {
    "duration": 0,
    "start_time": "2024-07-05T15:19:09.344Z"
   },
   {
    "duration": 0,
    "start_time": "2024-07-05T15:19:09.346Z"
   },
   {
    "duration": 0,
    "start_time": "2024-07-05T15:19:09.349Z"
   },
   {
    "duration": 0,
    "start_time": "2024-07-05T15:19:09.352Z"
   },
   {
    "duration": 0,
    "start_time": "2024-07-05T15:19:09.355Z"
   },
   {
    "duration": 0,
    "start_time": "2024-07-05T15:19:09.357Z"
   },
   {
    "duration": 0,
    "start_time": "2024-07-05T15:19:09.361Z"
   },
   {
    "duration": 0,
    "start_time": "2024-07-05T15:19:09.364Z"
   },
   {
    "duration": 0,
    "start_time": "2024-07-05T15:19:09.423Z"
   },
   {
    "duration": 0,
    "start_time": "2024-07-05T15:19:09.425Z"
   },
   {
    "duration": 0,
    "start_time": "2024-07-05T15:19:09.428Z"
   },
   {
    "duration": 0,
    "start_time": "2024-07-05T15:19:09.430Z"
   },
   {
    "duration": 0,
    "start_time": "2024-07-05T15:19:09.433Z"
   },
   {
    "duration": 0,
    "start_time": "2024-07-05T15:19:09.436Z"
   },
   {
    "duration": 1679,
    "start_time": "2024-07-05T15:20:22.376Z"
   },
   {
    "duration": 13,
    "start_time": "2024-07-05T15:20:24.059Z"
   },
   {
    "duration": 64,
    "start_time": "2024-07-05T15:20:24.076Z"
   },
   {
    "duration": 1473,
    "start_time": "2024-07-05T15:20:24.144Z"
   },
   {
    "duration": 0,
    "start_time": "2024-07-05T15:20:25.628Z"
   },
   {
    "duration": 0,
    "start_time": "2024-07-05T15:20:25.631Z"
   },
   {
    "duration": 0,
    "start_time": "2024-07-05T15:20:25.633Z"
   },
   {
    "duration": 0,
    "start_time": "2024-07-05T15:20:25.635Z"
   },
   {
    "duration": 0,
    "start_time": "2024-07-05T15:20:25.636Z"
   },
   {
    "duration": 0,
    "start_time": "2024-07-05T15:20:25.638Z"
   },
   {
    "duration": 0,
    "start_time": "2024-07-05T15:20:25.640Z"
   },
   {
    "duration": 0,
    "start_time": "2024-07-05T15:20:25.643Z"
   },
   {
    "duration": 0,
    "start_time": "2024-07-05T15:20:25.646Z"
   },
   {
    "duration": 0,
    "start_time": "2024-07-05T15:20:25.648Z"
   },
   {
    "duration": 0,
    "start_time": "2024-07-05T15:20:25.651Z"
   },
   {
    "duration": 0,
    "start_time": "2024-07-05T15:20:25.653Z"
   },
   {
    "duration": 0,
    "start_time": "2024-07-05T15:20:25.656Z"
   },
   {
    "duration": 0,
    "start_time": "2024-07-05T15:20:25.658Z"
   },
   {
    "duration": 0,
    "start_time": "2024-07-05T15:20:25.661Z"
   },
   {
    "duration": 0,
    "start_time": "2024-07-05T15:20:25.664Z"
   },
   {
    "duration": 0,
    "start_time": "2024-07-05T15:20:25.666Z"
   },
   {
    "duration": 0,
    "start_time": "2024-07-05T15:20:25.669Z"
   },
   {
    "duration": 0,
    "start_time": "2024-07-05T15:20:25.671Z"
   },
   {
    "duration": 0,
    "start_time": "2024-07-05T15:20:25.674Z"
   },
   {
    "duration": 1,
    "start_time": "2024-07-05T15:20:25.676Z"
   },
   {
    "duration": 1,
    "start_time": "2024-07-05T15:20:25.678Z"
   },
   {
    "duration": 0,
    "start_time": "2024-07-05T15:20:25.680Z"
   },
   {
    "duration": 0,
    "start_time": "2024-07-05T15:20:25.681Z"
   },
   {
    "duration": 0,
    "start_time": "2024-07-05T15:20:25.726Z"
   },
   {
    "duration": 0,
    "start_time": "2024-07-05T15:20:25.728Z"
   },
   {
    "duration": 0,
    "start_time": "2024-07-05T15:20:25.735Z"
   },
   {
    "duration": 5,
    "start_time": "2024-07-05T15:20:43.627Z"
   },
   {
    "duration": 1147,
    "start_time": "2024-07-05T15:20:45.598Z"
   },
   {
    "duration": 5,
    "start_time": "2024-07-05T15:20:48.704Z"
   },
   {
    "duration": 17,
    "start_time": "2024-07-05T15:20:49.244Z"
   },
   {
    "duration": 5,
    "start_time": "2024-07-05T15:20:50.007Z"
   },
   {
    "duration": 17,
    "start_time": "2024-07-05T15:20:51.193Z"
   },
   {
    "duration": 16,
    "start_time": "2024-07-05T15:20:52.258Z"
   },
   {
    "duration": 33,
    "start_time": "2024-07-05T15:20:53.471Z"
   },
   {
    "duration": 5465,
    "start_time": "2024-07-05T15:20:56.015Z"
   },
   {
    "duration": 8,
    "start_time": "2024-07-05T15:21:05.443Z"
   },
   {
    "duration": 4,
    "start_time": "2024-07-05T15:21:06.051Z"
   },
   {
    "duration": 6,
    "start_time": "2024-07-05T15:21:06.815Z"
   },
   {
    "duration": 15,
    "start_time": "2024-07-05T15:21:15.303Z"
   },
   {
    "duration": 15,
    "start_time": "2024-07-05T15:21:16.105Z"
   },
   {
    "duration": 4,
    "start_time": "2024-07-05T15:21:18.651Z"
   },
   {
    "duration": 59,
    "start_time": "2024-07-05T15:21:19.266Z"
   },
   {
    "duration": 18,
    "start_time": "2024-07-05T15:21:20.045Z"
   },
   {
    "duration": 27,
    "start_time": "2024-07-05T15:21:21.440Z"
   },
   {
    "duration": 26,
    "start_time": "2024-07-05T15:21:43.873Z"
   },
   {
    "duration": 26,
    "start_time": "2024-07-05T15:22:07.544Z"
   },
   {
    "duration": 19,
    "start_time": "2024-07-05T15:22:16.010Z"
   },
   {
    "duration": 4,
    "start_time": "2024-07-05T15:22:54.368Z"
   },
   {
    "duration": 55,
    "start_time": "2024-07-05T15:22:54.929Z"
   },
   {
    "duration": 14,
    "start_time": "2024-07-05T15:22:56.009Z"
   },
   {
    "duration": 54,
    "start_time": "2024-07-05T15:24:30.702Z"
   },
   {
    "duration": 1731,
    "start_time": "2024-07-05T15:26:50.300Z"
   },
   {
    "duration": 12,
    "start_time": "2024-07-05T15:26:52.036Z"
   },
   {
    "duration": 39,
    "start_time": "2024-07-05T15:26:52.051Z"
   },
   {
    "duration": 1078,
    "start_time": "2024-07-05T15:26:52.094Z"
   },
   {
    "duration": 6,
    "start_time": "2024-07-05T15:26:53.177Z"
   },
   {
    "duration": 38,
    "start_time": "2024-07-05T15:26:53.186Z"
   },
   {
    "duration": 6,
    "start_time": "2024-07-05T15:26:53.228Z"
   },
   {
    "duration": 18,
    "start_time": "2024-07-05T15:26:53.238Z"
   },
   {
    "duration": 16,
    "start_time": "2024-07-05T15:26:53.259Z"
   },
   {
    "duration": 80,
    "start_time": "2024-07-05T15:26:53.279Z"
   },
   {
    "duration": 5305,
    "start_time": "2024-07-05T15:26:53.363Z"
   },
   {
    "duration": 4,
    "start_time": "2024-07-05T15:26:58.671Z"
   },
   {
    "duration": 4,
    "start_time": "2024-07-05T15:26:58.679Z"
   },
   {
    "duration": 6,
    "start_time": "2024-07-05T15:26:58.691Z"
   },
   {
    "duration": 31,
    "start_time": "2024-07-05T15:26:58.702Z"
   },
   {
    "duration": 16,
    "start_time": "2024-07-05T15:26:58.735Z"
   },
   {
    "duration": 4,
    "start_time": "2024-07-05T15:26:58.755Z"
   },
   {
    "duration": 504,
    "start_time": "2024-07-05T15:26:58.763Z"
   },
   {
    "duration": 0,
    "start_time": "2024-07-05T15:26:59.271Z"
   },
   {
    "duration": 0,
    "start_time": "2024-07-05T15:26:59.273Z"
   },
   {
    "duration": 0,
    "start_time": "2024-07-05T15:26:59.276Z"
   },
   {
    "duration": 0,
    "start_time": "2024-07-05T15:26:59.278Z"
   },
   {
    "duration": 0,
    "start_time": "2024-07-05T15:26:59.281Z"
   },
   {
    "duration": 0,
    "start_time": "2024-07-05T15:26:59.284Z"
   },
   {
    "duration": 0,
    "start_time": "2024-07-05T15:26:59.286Z"
   },
   {
    "duration": 0,
    "start_time": "2024-07-05T15:26:59.289Z"
   },
   {
    "duration": 0,
    "start_time": "2024-07-05T15:26:59.324Z"
   },
   {
    "duration": 0,
    "start_time": "2024-07-05T15:26:59.326Z"
   },
   {
    "duration": 0,
    "start_time": "2024-07-05T15:26:59.328Z"
   },
   {
    "duration": 0,
    "start_time": "2024-07-05T15:26:59.329Z"
   },
   {
    "duration": 0,
    "start_time": "2024-07-05T15:26:59.332Z"
   },
   {
    "duration": 75,
    "start_time": "2024-07-05T15:29:05.194Z"
   },
   {
    "duration": 21,
    "start_time": "2024-07-05T15:29:08.435Z"
   },
   {
    "duration": 308,
    "start_time": "2024-07-05T22:52:51.079Z"
   },
   {
    "duration": 5177,
    "start_time": "2024-07-05T22:52:59.190Z"
   },
   {
    "duration": 84,
    "start_time": "2024-07-05T22:53:04.371Z"
   },
   {
    "duration": 43,
    "start_time": "2024-07-05T22:53:04.458Z"
   },
   {
    "duration": 1008,
    "start_time": "2024-07-05T22:53:04.504Z"
   },
   {
    "duration": 5,
    "start_time": "2024-07-05T22:53:05.517Z"
   },
   {
    "duration": 15,
    "start_time": "2024-07-05T22:53:05.525Z"
   },
   {
    "duration": 5,
    "start_time": "2024-07-05T22:53:05.543Z"
   },
   {
    "duration": 57,
    "start_time": "2024-07-05T22:53:05.552Z"
   },
   {
    "duration": 13,
    "start_time": "2024-07-05T22:53:05.613Z"
   },
   {
    "duration": 30,
    "start_time": "2024-07-05T22:53:05.630Z"
   },
   {
    "duration": 5047,
    "start_time": "2024-07-05T22:53:05.663Z"
   },
   {
    "duration": 4,
    "start_time": "2024-07-05T22:53:10.714Z"
   },
   {
    "duration": 3,
    "start_time": "2024-07-05T22:53:10.723Z"
   },
   {
    "duration": 6,
    "start_time": "2024-07-05T22:53:10.733Z"
   },
   {
    "duration": 14,
    "start_time": "2024-07-05T22:53:10.743Z"
   },
   {
    "duration": 51,
    "start_time": "2024-07-05T22:53:10.760Z"
   },
   {
    "duration": 4,
    "start_time": "2024-07-05T22:53:10.815Z"
   },
   {
    "duration": 98,
    "start_time": "2024-07-05T22:53:10.823Z"
   },
   {
    "duration": 24,
    "start_time": "2024-07-05T22:53:10.923Z"
   },
   {
    "duration": 5,
    "start_time": "2024-07-05T22:53:10.950Z"
   },
   {
    "duration": 7,
    "start_time": "2024-07-05T22:53:10.958Z"
   },
   {
    "duration": 34,
    "start_time": "2024-07-05T22:53:10.968Z"
   },
   {
    "duration": 6,
    "start_time": "2024-07-05T22:53:11.005Z"
   },
   {
    "duration": 9,
    "start_time": "2024-07-05T22:53:11.014Z"
   },
   {
    "duration": 0,
    "start_time": "2024-07-05T22:53:11.026Z"
   },
   {
    "duration": 0,
    "start_time": "2024-07-05T22:53:11.027Z"
   },
   {
    "duration": 0,
    "start_time": "2024-07-05T22:53:11.030Z"
   },
   {
    "duration": 0,
    "start_time": "2024-07-05T22:53:11.031Z"
   },
   {
    "duration": 0,
    "start_time": "2024-07-05T22:53:11.034Z"
   },
   {
    "duration": 0,
    "start_time": "2024-07-05T22:53:11.035Z"
   },
   {
    "duration": 13,
    "start_time": "2024-07-05T22:53:36.378Z"
   },
   {
    "duration": 8,
    "start_time": "2024-07-05T22:53:49.289Z"
   },
   {
    "duration": 7,
    "start_time": "2024-07-05T22:54:38.137Z"
   },
   {
    "duration": 13,
    "start_time": "2024-07-05T22:55:05.112Z"
   },
   {
    "duration": 13,
    "start_time": "2024-07-05T22:55:12.899Z"
   },
   {
    "duration": 213,
    "start_time": "2024-07-05T23:10:20.877Z"
   },
   {
    "duration": 1604,
    "start_time": "2024-07-05T23:11:21.747Z"
   },
   {
    "duration": 12,
    "start_time": "2024-07-05T23:11:23.358Z"
   },
   {
    "duration": 57,
    "start_time": "2024-07-05T23:11:23.373Z"
   },
   {
    "duration": 1036,
    "start_time": "2024-07-05T23:11:23.434Z"
   },
   {
    "duration": 6,
    "start_time": "2024-07-05T23:11:24.476Z"
   },
   {
    "duration": 18,
    "start_time": "2024-07-05T23:11:24.503Z"
   },
   {
    "duration": 6,
    "start_time": "2024-07-05T23:11:24.524Z"
   },
   {
    "duration": 26,
    "start_time": "2024-07-05T23:11:24.536Z"
   },
   {
    "duration": 47,
    "start_time": "2024-07-05T23:11:24.565Z"
   },
   {
    "duration": 36,
    "start_time": "2024-07-05T23:11:24.616Z"
   },
   {
    "duration": 5431,
    "start_time": "2024-07-05T23:11:24.655Z"
   },
   {
    "duration": 4,
    "start_time": "2024-07-05T23:11:30.090Z"
   },
   {
    "duration": 4,
    "start_time": "2024-07-05T23:11:30.098Z"
   },
   {
    "duration": 6,
    "start_time": "2024-07-05T23:11:30.111Z"
   },
   {
    "duration": 17,
    "start_time": "2024-07-05T23:11:30.120Z"
   },
   {
    "duration": 18,
    "start_time": "2024-07-05T23:11:30.140Z"
   },
   {
    "duration": 42,
    "start_time": "2024-07-05T23:11:30.162Z"
   },
   {
    "duration": 102,
    "start_time": "2024-07-05T23:11:30.207Z"
   },
   {
    "duration": 25,
    "start_time": "2024-07-05T23:11:30.312Z"
   },
   {
    "duration": 5,
    "start_time": "2024-07-05T23:11:30.341Z"
   },
   {
    "duration": 8,
    "start_time": "2024-07-05T23:11:30.350Z"
   },
   {
    "duration": 268,
    "start_time": "2024-07-05T23:11:30.362Z"
   },
   {
    "duration": 6,
    "start_time": "2024-07-05T23:11:30.634Z"
   },
   {
    "duration": 4,
    "start_time": "2024-07-05T23:11:30.643Z"
   },
   {
    "duration": 7,
    "start_time": "2024-07-05T23:11:30.651Z"
   },
   {
    "duration": 0,
    "start_time": "2024-07-05T23:11:30.661Z"
   },
   {
    "duration": 0,
    "start_time": "2024-07-05T23:11:30.663Z"
   },
   {
    "duration": 0,
    "start_time": "2024-07-05T23:11:30.701Z"
   },
   {
    "duration": 0,
    "start_time": "2024-07-05T23:11:30.703Z"
   },
   {
    "duration": 0,
    "start_time": "2024-07-05T23:11:30.705Z"
   },
   {
    "duration": 0,
    "start_time": "2024-07-05T23:11:30.706Z"
   },
   {
    "duration": 621,
    "start_time": "2024-07-05T23:15:35.948Z"
   },
   {
    "duration": 363,
    "start_time": "2024-07-05T23:15:51.586Z"
   },
   {
    "duration": 149,
    "start_time": "2024-07-05T23:19:45.687Z"
   },
   {
    "duration": 1924,
    "start_time": "2024-07-05T23:20:11.847Z"
   },
   {
    "duration": 8,
    "start_time": "2024-07-05T23:20:13.778Z"
   },
   {
    "duration": 13,
    "start_time": "2024-07-05T23:20:13.789Z"
   },
   {
    "duration": 44,
    "start_time": "2024-07-05T23:20:13.807Z"
   },
   {
    "duration": 1409,
    "start_time": "2024-07-05T23:20:13.854Z"
   },
   {
    "duration": 7,
    "start_time": "2024-07-05T23:20:15.269Z"
   },
   {
    "duration": 40,
    "start_time": "2024-07-05T23:20:15.279Z"
   },
   {
    "duration": 5,
    "start_time": "2024-07-05T23:20:15.323Z"
   },
   {
    "duration": 18,
    "start_time": "2024-07-05T23:20:15.332Z"
   },
   {
    "duration": 56,
    "start_time": "2024-07-05T23:20:15.358Z"
   },
   {
    "duration": 43,
    "start_time": "2024-07-05T23:20:15.423Z"
   },
   {
    "duration": 5557,
    "start_time": "2024-07-05T23:20:15.469Z"
   },
   {
    "duration": 4,
    "start_time": "2024-07-05T23:20:21.031Z"
   },
   {
    "duration": 10,
    "start_time": "2024-07-05T23:20:21.038Z"
   },
   {
    "duration": 17,
    "start_time": "2024-07-05T23:20:21.052Z"
   },
   {
    "duration": 27,
    "start_time": "2024-07-05T23:20:21.074Z"
   },
   {
    "duration": 18,
    "start_time": "2024-07-05T23:20:21.107Z"
   },
   {
    "duration": 87,
    "start_time": "2024-07-05T23:20:21.129Z"
   },
   {
    "duration": 21,
    "start_time": "2024-07-05T23:20:21.219Z"
   },
   {
    "duration": 6,
    "start_time": "2024-07-05T23:20:21.243Z"
   },
   {
    "duration": 11,
    "start_time": "2024-07-05T23:20:21.254Z"
   },
   {
    "duration": 225,
    "start_time": "2024-07-05T23:20:21.267Z"
   },
   {
    "duration": 5,
    "start_time": "2024-07-05T23:20:21.504Z"
   },
   {
    "duration": 5,
    "start_time": "2024-07-05T23:20:21.513Z"
   },
   {
    "duration": 1034,
    "start_time": "2024-07-05T23:20:21.522Z"
   },
   {
    "duration": 0,
    "start_time": "2024-07-05T23:20:22.561Z"
   },
   {
    "duration": 0,
    "start_time": "2024-07-05T23:20:22.563Z"
   },
   {
    "duration": 0,
    "start_time": "2024-07-05T23:20:22.565Z"
   },
   {
    "duration": 0,
    "start_time": "2024-07-05T23:20:22.567Z"
   },
   {
    "duration": 0,
    "start_time": "2024-07-05T23:20:22.569Z"
   },
   {
    "duration": 0,
    "start_time": "2024-07-05T23:20:22.571Z"
   },
   {
    "duration": 31,
    "start_time": "2024-07-05T23:22:47.527Z"
   },
   {
    "duration": 148,
    "start_time": "2024-07-05T23:23:08.858Z"
   },
   {
    "duration": 164,
    "start_time": "2024-07-05T23:33:28.356Z"
   },
   {
    "duration": 1581,
    "start_time": "2024-07-05T23:33:38.411Z"
   },
   {
    "duration": 3,
    "start_time": "2024-07-05T23:33:40.001Z"
   },
   {
    "duration": 12,
    "start_time": "2024-07-05T23:33:40.007Z"
   },
   {
    "duration": 39,
    "start_time": "2024-07-05T23:33:40.023Z"
   },
   {
    "duration": 1021,
    "start_time": "2024-07-05T23:33:40.066Z"
   },
   {
    "duration": 13,
    "start_time": "2024-07-05T23:33:41.090Z"
   },
   {
    "duration": 16,
    "start_time": "2024-07-05T23:33:41.106Z"
   },
   {
    "duration": 6,
    "start_time": "2024-07-05T23:33:41.125Z"
   },
   {
    "duration": 16,
    "start_time": "2024-07-05T23:33:41.134Z"
   },
   {
    "duration": 56,
    "start_time": "2024-07-05T23:33:41.155Z"
   },
   {
    "duration": 37,
    "start_time": "2024-07-05T23:33:41.214Z"
   },
   {
    "duration": 4984,
    "start_time": "2024-07-05T23:33:41.254Z"
   },
   {
    "duration": 4,
    "start_time": "2024-07-05T23:33:46.242Z"
   },
   {
    "duration": 6,
    "start_time": "2024-07-05T23:33:46.250Z"
   },
   {
    "duration": 15,
    "start_time": "2024-07-05T23:33:46.259Z"
   },
   {
    "duration": 33,
    "start_time": "2024-07-05T23:33:46.276Z"
   },
   {
    "duration": 5,
    "start_time": "2024-07-05T23:33:46.312Z"
   },
   {
    "duration": 92,
    "start_time": "2024-07-05T23:33:46.321Z"
   },
   {
    "duration": 21,
    "start_time": "2024-07-05T23:33:46.416Z"
   },
   {
    "duration": 6,
    "start_time": "2024-07-05T23:33:46.440Z"
   },
   {
    "duration": 7,
    "start_time": "2024-07-05T23:33:46.449Z"
   },
   {
    "duration": 223,
    "start_time": "2024-07-05T23:33:46.459Z"
   },
   {
    "duration": 17,
    "start_time": "2024-07-05T23:33:46.686Z"
   },
   {
    "duration": 5,
    "start_time": "2024-07-05T23:33:46.709Z"
   },
   {
    "duration": 884,
    "start_time": "2024-07-05T23:33:46.719Z"
   },
   {
    "duration": 0,
    "start_time": "2024-07-05T23:33:47.606Z"
   },
   {
    "duration": 0,
    "start_time": "2024-07-05T23:33:47.608Z"
   },
   {
    "duration": 0,
    "start_time": "2024-07-05T23:33:47.610Z"
   },
   {
    "duration": 0,
    "start_time": "2024-07-05T23:33:47.612Z"
   },
   {
    "duration": 0,
    "start_time": "2024-07-05T23:33:47.614Z"
   },
   {
    "duration": 0,
    "start_time": "2024-07-05T23:33:47.616Z"
   },
   {
    "duration": 0,
    "start_time": "2024-07-05T23:33:47.618Z"
   },
   {
    "duration": 5,
    "start_time": "2024-07-05T23:36:42.540Z"
   },
   {
    "duration": 9,
    "start_time": "2024-07-05T23:36:51.692Z"
   },
   {
    "duration": 15,
    "start_time": "2024-07-05T23:37:23.011Z"
   },
   {
    "duration": 37,
    "start_time": "2024-07-05T23:37:31.294Z"
   },
   {
    "duration": 322,
    "start_time": "2024-07-07T17:17:17.087Z"
   },
   {
    "duration": 5461,
    "start_time": "2024-07-07T17:17:26.586Z"
   },
   {
    "duration": 5,
    "start_time": "2024-07-07T17:17:46.070Z"
   },
   {
    "duration": 4,
    "start_time": "2024-07-07T17:24:16.004Z"
   },
   {
    "duration": 139,
    "start_time": "2024-07-07T17:24:16.474Z"
   },
   {
    "duration": 6,
    "start_time": "2024-07-07T17:24:20.717Z"
   },
   {
    "duration": 16,
    "start_time": "2024-07-07T17:24:22.011Z"
   },
   {
    "duration": 17,
    "start_time": "2024-07-07T17:24:22.842Z"
   },
   {
    "duration": 51,
    "start_time": "2024-07-07T17:24:24.059Z"
   },
   {
    "duration": 1098,
    "start_time": "2024-07-07T17:24:24.733Z"
   },
   {
    "duration": 4,
    "start_time": "2024-07-07T17:24:26.443Z"
   },
   {
    "duration": 5,
    "start_time": "2024-07-07T17:24:27.411Z"
   },
   {
    "duration": 18,
    "start_time": "2024-07-07T17:24:28.669Z"
   },
   {
    "duration": 5,
    "start_time": "2024-07-07T17:24:30.871Z"
   },
   {
    "duration": 17,
    "start_time": "2024-07-07T17:24:37.257Z"
   },
   {
    "duration": 16,
    "start_time": "2024-07-07T17:24:45.208Z"
   },
   {
    "duration": 31,
    "start_time": "2024-07-07T17:24:58.124Z"
   },
   {
    "duration": 5221,
    "start_time": "2024-07-07T17:25:12.886Z"
   },
   {
    "duration": 6,
    "start_time": "2024-07-07T17:28:07.110Z"
   },
   {
    "duration": 14,
    "start_time": "2024-07-07T17:28:14.668Z"
   },
   {
    "duration": 17,
    "start_time": "2024-07-07T17:28:17.699Z"
   },
   {
    "duration": 5,
    "start_time": "2024-07-07T17:34:38.094Z"
   },
   {
    "duration": 127,
    "start_time": "2024-07-07T17:34:46.149Z"
   },
   {
    "duration": 1568,
    "start_time": "2024-07-07T17:34:51.921Z"
   },
   {
    "duration": 11,
    "start_time": "2024-07-07T17:34:53.494Z"
   },
   {
    "duration": 27,
    "start_time": "2024-07-07T17:34:53.508Z"
   },
   {
    "duration": 33,
    "start_time": "2024-07-07T17:34:53.539Z"
   },
   {
    "duration": 1001,
    "start_time": "2024-07-07T17:34:53.576Z"
   },
   {
    "duration": 5,
    "start_time": "2024-07-07T17:34:54.579Z"
   },
   {
    "duration": 6,
    "start_time": "2024-07-07T17:34:54.587Z"
   },
   {
    "duration": 34,
    "start_time": "2024-07-07T17:34:54.597Z"
   },
   {
    "duration": 5,
    "start_time": "2024-07-07T17:34:54.635Z"
   },
   {
    "duration": 15,
    "start_time": "2024-07-07T17:34:54.645Z"
   },
   {
    "duration": 75,
    "start_time": "2024-07-07T17:34:54.663Z"
   },
   {
    "duration": 4885,
    "start_time": "2024-07-07T17:34:54.742Z"
   },
   {
    "duration": 7,
    "start_time": "2024-07-07T17:34:59.631Z"
   },
   {
    "duration": 15,
    "start_time": "2024-07-07T17:34:59.641Z"
   },
   {
    "duration": 14,
    "start_time": "2024-07-07T17:34:59.663Z"
   },
   {
    "duration": 6,
    "start_time": "2024-07-07T17:34:59.680Z"
   },
   {
    "duration": 103,
    "start_time": "2024-07-07T17:34:59.693Z"
   },
   {
    "duration": 36,
    "start_time": "2024-07-07T17:34:59.799Z"
   },
   {
    "duration": 5,
    "start_time": "2024-07-07T17:34:59.838Z"
   },
   {
    "duration": 9,
    "start_time": "2024-07-07T17:34:59.846Z"
   },
   {
    "duration": 235,
    "start_time": "2024-07-07T17:34:59.857Z"
   },
   {
    "duration": 5,
    "start_time": "2024-07-07T17:35:00.096Z"
   },
   {
    "duration": 22,
    "start_time": "2024-07-07T17:35:00.105Z"
   },
   {
    "duration": 860,
    "start_time": "2024-07-07T17:35:00.131Z"
   },
   {
    "duration": 0,
    "start_time": "2024-07-07T17:35:00.995Z"
   },
   {
    "duration": 0,
    "start_time": "2024-07-07T17:35:00.996Z"
   },
   {
    "duration": 0,
    "start_time": "2024-07-07T17:35:00.998Z"
   },
   {
    "duration": 0,
    "start_time": "2024-07-07T17:35:01.000Z"
   },
   {
    "duration": 0,
    "start_time": "2024-07-07T17:35:01.002Z"
   },
   {
    "duration": 0,
    "start_time": "2024-07-07T17:35:01.004Z"
   },
   {
    "duration": 0,
    "start_time": "2024-07-07T17:35:01.023Z"
   },
   {
    "duration": 133,
    "start_time": "2024-07-07T17:36:40.301Z"
   },
   {
    "duration": 135,
    "start_time": "2024-07-07T17:36:57.824Z"
   },
   {
    "duration": 183,
    "start_time": "2024-07-07T17:38:34.146Z"
   },
   {
    "duration": 287,
    "start_time": "2024-07-07T17:39:20.553Z"
   },
   {
    "duration": 154,
    "start_time": "2024-07-07T17:39:44.391Z"
   },
   {
    "duration": 157,
    "start_time": "2024-07-07T17:39:52.606Z"
   },
   {
    "duration": 167,
    "start_time": "2024-07-07T17:40:03.157Z"
   },
   {
    "duration": 172,
    "start_time": "2024-07-07T17:40:27.604Z"
   },
   {
    "duration": 173,
    "start_time": "2024-07-07T17:40:38.257Z"
   },
   {
    "duration": 173,
    "start_time": "2024-07-07T17:40:43.252Z"
   },
   {
    "duration": 5233,
    "start_time": "2024-07-08T20:52:46.408Z"
   },
   {
    "duration": 87,
    "start_time": "2024-07-08T20:52:51.645Z"
   },
   {
    "duration": 17,
    "start_time": "2024-07-08T20:52:51.735Z"
   },
   {
    "duration": 54,
    "start_time": "2024-07-08T20:52:51.755Z"
   },
   {
    "duration": 1013,
    "start_time": "2024-07-08T20:52:51.816Z"
   },
   {
    "duration": 4,
    "start_time": "2024-07-08T20:52:52.832Z"
   },
   {
    "duration": 6,
    "start_time": "2024-07-08T20:52:52.839Z"
   },
   {
    "duration": 44,
    "start_time": "2024-07-08T20:52:52.848Z"
   },
   {
    "duration": 6,
    "start_time": "2024-07-08T20:52:52.895Z"
   },
   {
    "duration": 17,
    "start_time": "2024-07-08T20:52:52.905Z"
   },
   {
    "duration": 68,
    "start_time": "2024-07-08T20:52:52.925Z"
   },
   {
    "duration": 4990,
    "start_time": "2024-07-08T20:52:52.997Z"
   },
   {
    "duration": 7,
    "start_time": "2024-07-08T20:52:57.991Z"
   },
   {
    "duration": 15,
    "start_time": "2024-07-08T20:52:58.006Z"
   },
   {
    "duration": 14,
    "start_time": "2024-07-08T20:52:58.024Z"
   },
   {
    "duration": 5,
    "start_time": "2024-07-08T20:52:58.041Z"
   },
   {
    "duration": 73,
    "start_time": "2024-07-08T20:52:58.090Z"
   },
   {
    "duration": 30,
    "start_time": "2024-07-08T20:52:58.166Z"
   },
   {
    "duration": 5,
    "start_time": "2024-07-08T20:52:58.199Z"
   },
   {
    "duration": 14,
    "start_time": "2024-07-08T20:52:58.208Z"
   },
   {
    "duration": 195,
    "start_time": "2024-07-08T20:52:58.226Z"
   },
   {
    "duration": 5,
    "start_time": "2024-07-08T20:52:58.424Z"
   },
   {
    "duration": 4,
    "start_time": "2024-07-08T20:52:58.433Z"
   },
   {
    "duration": 924,
    "start_time": "2024-07-08T20:52:58.441Z"
   },
   {
    "duration": 0,
    "start_time": "2024-07-08T20:52:59.368Z"
   },
   {
    "duration": 0,
    "start_time": "2024-07-08T20:52:59.370Z"
   },
   {
    "duration": 0,
    "start_time": "2024-07-08T20:52:59.373Z"
   },
   {
    "duration": 0,
    "start_time": "2024-07-08T20:52:59.375Z"
   },
   {
    "duration": 0,
    "start_time": "2024-07-08T20:52:59.391Z"
   },
   {
    "duration": 0,
    "start_time": "2024-07-08T20:52:59.393Z"
   },
   {
    "duration": 0,
    "start_time": "2024-07-08T20:52:59.395Z"
   },
   {
    "duration": 34,
    "start_time": "2024-07-08T20:54:13.373Z"
   },
   {
    "duration": 4,
    "start_time": "2024-07-08T20:54:22.420Z"
   },
   {
    "duration": 7,
    "start_time": "2024-07-08T20:54:22.962Z"
   },
   {
    "duration": 139,
    "start_time": "2024-07-08T20:54:23.628Z"
   },
   {
    "duration": 7,
    "start_time": "2024-07-08T20:54:26.456Z"
   },
   {
    "duration": 4,
    "start_time": "2024-07-08T20:54:27.276Z"
   },
   {
    "duration": 109,
    "start_time": "2024-07-08T20:54:27.702Z"
   },
   {
    "duration": 7,
    "start_time": "2024-07-08T20:55:59.462Z"
   },
   {
    "duration": 4,
    "start_time": "2024-07-08T20:56:00.185Z"
   },
   {
    "duration": 223,
    "start_time": "2024-07-08T20:56:00.683Z"
   },
   {
    "duration": 5,
    "start_time": "2024-07-08T21:01:26.142Z"
   },
   {
    "duration": 93,
    "start_time": "2024-07-08T21:01:26.710Z"
   },
   {
    "duration": 16,
    "start_time": "2024-07-08T21:04:14.019Z"
   },
   {
    "duration": 219,
    "start_time": "2024-07-08T21:05:07.190Z"
   },
   {
    "duration": 12,
    "start_time": "2024-07-08T21:05:49.954Z"
   },
   {
    "duration": 8,
    "start_time": "2024-07-08T21:05:55.880Z"
   },
   {
    "duration": 209,
    "start_time": "2024-07-08T21:06:03.099Z"
   },
   {
    "duration": 6,
    "start_time": "2024-07-08T21:06:32.396Z"
   },
   {
    "duration": 211,
    "start_time": "2024-07-08T21:06:34.183Z"
   },
   {
    "duration": 5,
    "start_time": "2024-07-08T21:07:11.818Z"
   },
   {
    "duration": 17,
    "start_time": "2024-07-08T21:07:12.400Z"
   },
   {
    "duration": 4,
    "start_time": "2024-07-08T21:07:24.011Z"
   },
   {
    "duration": 18,
    "start_time": "2024-07-08T21:07:25.270Z"
   },
   {
    "duration": 14,
    "start_time": "2024-07-08T21:07:36.633Z"
   },
   {
    "duration": 5,
    "start_time": "2024-07-08T21:07:40.682Z"
   },
   {
    "duration": 3,
    "start_time": "2024-07-08T21:07:41.155Z"
   },
   {
    "duration": 6,
    "start_time": "2024-07-08T21:07:42.308Z"
   },
   {
    "duration": 6,
    "start_time": "2024-07-08T21:07:43.755Z"
   },
   {
    "duration": 6,
    "start_time": "2024-07-08T21:12:20.973Z"
   },
   {
    "duration": 7,
    "start_time": "2024-07-08T21:13:25.728Z"
   },
   {
    "duration": 1681,
    "start_time": "2024-07-08T21:25:54.063Z"
   },
   {
    "duration": 12,
    "start_time": "2024-07-08T21:25:55.749Z"
   },
   {
    "duration": 34,
    "start_time": "2024-07-08T21:25:55.764Z"
   },
   {
    "duration": 36,
    "start_time": "2024-07-08T21:25:55.802Z"
   },
   {
    "duration": 1116,
    "start_time": "2024-07-08T21:25:55.843Z"
   },
   {
    "duration": 4,
    "start_time": "2024-07-08T21:25:56.963Z"
   },
   {
    "duration": 6,
    "start_time": "2024-07-08T21:25:56.989Z"
   },
   {
    "duration": 16,
    "start_time": "2024-07-08T21:25:56.998Z"
   },
   {
    "duration": 6,
    "start_time": "2024-07-08T21:25:57.018Z"
   },
   {
    "duration": 18,
    "start_time": "2024-07-08T21:25:57.028Z"
   },
   {
    "duration": 32,
    "start_time": "2024-07-08T21:25:57.090Z"
   },
   {
    "duration": 5146,
    "start_time": "2024-07-08T21:25:57.125Z"
   },
   {
    "duration": 9,
    "start_time": "2024-07-08T21:26:02.274Z"
   },
   {
    "duration": 16,
    "start_time": "2024-07-08T21:26:02.292Z"
   },
   {
    "duration": 18,
    "start_time": "2024-07-08T21:26:02.314Z"
   },
   {
    "duration": 5,
    "start_time": "2024-07-08T21:26:02.335Z"
   },
   {
    "duration": 106,
    "start_time": "2024-07-08T21:26:02.343Z"
   },
   {
    "duration": 40,
    "start_time": "2024-07-08T21:26:02.452Z"
   },
   {
    "duration": 28,
    "start_time": "2024-07-08T21:26:02.495Z"
   },
   {
    "duration": 15,
    "start_time": "2024-07-08T21:26:02.526Z"
   },
   {
    "duration": 10,
    "start_time": "2024-07-08T21:26:02.544Z"
   },
   {
    "duration": 187,
    "start_time": "2024-07-08T21:26:02.590Z"
   },
   {
    "duration": 14,
    "start_time": "2024-07-08T21:26:02.780Z"
   },
   {
    "duration": 8,
    "start_time": "2024-07-08T21:26:02.797Z"
   },
   {
    "duration": 39,
    "start_time": "2024-07-08T21:26:02.808Z"
   },
   {
    "duration": 41,
    "start_time": "2024-07-08T21:26:02.849Z"
   },
   {
    "duration": 12,
    "start_time": "2024-07-08T21:26:02.894Z"
   },
   {
    "duration": 6,
    "start_time": "2024-07-08T21:26:02.909Z"
   },
   {
    "duration": 12,
    "start_time": "2024-07-08T21:26:02.919Z"
   },
   {
    "duration": 61,
    "start_time": "2024-07-08T21:26:02.934Z"
   },
   {
    "duration": 6,
    "start_time": "2024-07-08T21:26:02.999Z"
   },
   {
    "duration": 4,
    "start_time": "2024-07-08T21:26:03.009Z"
   },
   {
    "duration": 80,
    "start_time": "2024-07-08T21:26:03.016Z"
   },
   {
    "duration": 565,
    "start_time": "2024-07-08T21:27:32.652Z"
   },
   {
    "duration": 25,
    "start_time": "2024-07-08T21:27:41.103Z"
   },
   {
    "duration": 496,
    "start_time": "2024-07-08T21:27:52.126Z"
   },
   {
    "duration": 38,
    "start_time": "2024-07-08T21:28:29.478Z"
   },
   {
    "duration": 24,
    "start_time": "2024-07-08T21:28:34.347Z"
   },
   {
    "duration": 9,
    "start_time": "2024-07-08T21:34:51.243Z"
   },
   {
    "duration": 6,
    "start_time": "2024-07-08T21:34:51.870Z"
   },
   {
    "duration": 19,
    "start_time": "2024-07-08T21:34:53.311Z"
   },
   {
    "duration": 6,
    "start_time": "2024-07-08T21:38:32.441Z"
   },
   {
    "duration": 4,
    "start_time": "2024-07-08T21:41:35.393Z"
   },
   {
    "duration": 4,
    "start_time": "2024-07-08T21:41:51.231Z"
   },
   {
    "duration": 7,
    "start_time": "2024-07-08T21:42:01.966Z"
   },
   {
    "duration": 65,
    "start_time": "2024-07-08T21:45:58.828Z"
   },
   {
    "duration": 13,
    "start_time": "2024-07-08T21:46:02.901Z"
   },
   {
    "duration": 28,
    "start_time": "2024-07-08T21:49:30.623Z"
   },
   {
    "duration": 7,
    "start_time": "2024-07-08T21:51:03.775Z"
   },
   {
    "duration": 7,
    "start_time": "2024-07-08T21:51:28.799Z"
   },
   {
    "duration": 21,
    "start_time": "2024-07-08T22:00:37.695Z"
   },
   {
    "duration": 11,
    "start_time": "2024-07-08T22:11:40.604Z"
   },
   {
    "duration": 64,
    "start_time": "2024-07-08T22:11:41.093Z"
   },
   {
    "duration": 1625,
    "start_time": "2024-07-08T22:12:41.391Z"
   },
   {
    "duration": 11,
    "start_time": "2024-07-08T22:12:43.020Z"
   },
   {
    "duration": 16,
    "start_time": "2024-07-08T22:12:43.034Z"
   },
   {
    "duration": 62,
    "start_time": "2024-07-08T22:12:43.054Z"
   },
   {
    "duration": 1045,
    "start_time": "2024-07-08T22:12:43.119Z"
   },
   {
    "duration": 3,
    "start_time": "2024-07-08T22:12:44.167Z"
   },
   {
    "duration": 19,
    "start_time": "2024-07-08T22:12:44.174Z"
   },
   {
    "duration": 15,
    "start_time": "2024-07-08T22:12:44.196Z"
   },
   {
    "duration": 5,
    "start_time": "2024-07-08T22:12:44.214Z"
   },
   {
    "duration": 17,
    "start_time": "2024-07-08T22:12:44.227Z"
   },
   {
    "duration": 71,
    "start_time": "2024-07-08T22:12:44.247Z"
   },
   {
    "duration": 5211,
    "start_time": "2024-07-08T22:12:44.321Z"
   },
   {
    "duration": 9,
    "start_time": "2024-07-08T22:12:49.536Z"
   },
   {
    "duration": 19,
    "start_time": "2024-07-08T22:12:49.550Z"
   },
   {
    "duration": 21,
    "start_time": "2024-07-08T22:12:49.575Z"
   },
   {
    "duration": 7,
    "start_time": "2024-07-08T22:12:49.600Z"
   },
   {
    "duration": 114,
    "start_time": "2024-07-08T22:12:49.614Z"
   },
   {
    "duration": 21,
    "start_time": "2024-07-08T22:12:49.731Z"
   },
   {
    "duration": 43,
    "start_time": "2024-07-08T22:12:49.755Z"
   },
   {
    "duration": 10,
    "start_time": "2024-07-08T22:12:49.802Z"
   },
   {
    "duration": 224,
    "start_time": "2024-07-08T22:12:49.815Z"
   },
   {
    "duration": 7,
    "start_time": "2024-07-08T22:12:50.043Z"
   },
   {
    "duration": 4,
    "start_time": "2024-07-08T22:12:50.054Z"
   },
   {
    "duration": 64,
    "start_time": "2024-07-08T22:12:50.062Z"
   },
   {
    "duration": 8,
    "start_time": "2024-07-08T22:12:50.130Z"
   },
   {
    "duration": 6,
    "start_time": "2024-07-08T22:12:50.141Z"
   },
   {
    "duration": 52,
    "start_time": "2024-07-08T22:12:50.149Z"
   },
   {
    "duration": 85,
    "start_time": "2024-07-08T22:12:50.208Z"
   },
   {
    "duration": 7,
    "start_time": "2024-07-08T22:12:50.299Z"
   },
   {
    "duration": 83,
    "start_time": "2024-07-08T22:12:50.309Z"
   },
   {
    "duration": 7,
    "start_time": "2024-07-08T22:12:50.395Z"
   },
   {
    "duration": 8,
    "start_time": "2024-07-08T22:12:50.405Z"
   },
   {
    "duration": 13,
    "start_time": "2024-07-08T22:12:50.417Z"
   },
   {
    "duration": 65,
    "start_time": "2024-07-08T22:12:50.433Z"
   },
   {
    "duration": 89,
    "start_time": "2024-07-08T22:12:50.502Z"
   },
   {
    "duration": 34,
    "start_time": "2024-07-08T22:12:50.595Z"
   },
   {
    "duration": 9,
    "start_time": "2024-07-08T22:18:25.266Z"
   },
   {
    "duration": 9,
    "start_time": "2024-07-08T22:18:35.710Z"
   },
   {
    "duration": 14,
    "start_time": "2024-07-08T22:18:41.216Z"
   },
   {
    "duration": 11,
    "start_time": "2024-07-08T22:18:48.868Z"
   },
   {
    "duration": 1663,
    "start_time": "2024-07-08T22:19:52.181Z"
   },
   {
    "duration": 11,
    "start_time": "2024-07-08T22:19:53.847Z"
   },
   {
    "duration": 33,
    "start_time": "2024-07-08T22:19:53.861Z"
   },
   {
    "duration": 33,
    "start_time": "2024-07-08T22:19:53.897Z"
   },
   {
    "duration": 1063,
    "start_time": "2024-07-08T22:19:53.935Z"
   },
   {
    "duration": 3,
    "start_time": "2024-07-08T22:19:55.001Z"
   },
   {
    "duration": 7,
    "start_time": "2024-07-08T22:19:55.007Z"
   },
   {
    "duration": 17,
    "start_time": "2024-07-08T22:19:55.017Z"
   },
   {
    "duration": 6,
    "start_time": "2024-07-08T22:19:55.037Z"
   },
   {
    "duration": 20,
    "start_time": "2024-07-08T22:19:55.090Z"
   },
   {
    "duration": 35,
    "start_time": "2024-07-08T22:19:55.113Z"
   },
   {
    "duration": 5160,
    "start_time": "2024-07-08T22:19:55.151Z"
   },
   {
    "duration": 8,
    "start_time": "2024-07-08T22:20:00.315Z"
   },
   {
    "duration": 15,
    "start_time": "2024-07-08T22:20:00.330Z"
   },
   {
    "duration": 40,
    "start_time": "2024-07-08T22:20:00.349Z"
   },
   {
    "duration": 4,
    "start_time": "2024-07-08T22:20:00.392Z"
   },
   {
    "duration": 95,
    "start_time": "2024-07-08T22:20:00.399Z"
   },
   {
    "duration": 19,
    "start_time": "2024-07-08T22:20:00.497Z"
   },
   {
    "duration": 23,
    "start_time": "2024-07-08T22:20:00.519Z"
   },
   {
    "duration": 9,
    "start_time": "2024-07-08T22:20:00.545Z"
   },
   {
    "duration": 178,
    "start_time": "2024-07-08T22:20:00.592Z"
   },
   {
    "duration": 16,
    "start_time": "2024-07-08T22:20:00.774Z"
   },
   {
    "duration": 4,
    "start_time": "2024-07-08T22:20:00.794Z"
   },
   {
    "duration": 39,
    "start_time": "2024-07-08T22:20:00.801Z"
   },
   {
    "duration": 7,
    "start_time": "2024-07-08T22:20:00.843Z"
   },
   {
    "duration": 37,
    "start_time": "2024-07-08T22:20:00.854Z"
   },
   {
    "duration": 16,
    "start_time": "2024-07-08T22:20:00.895Z"
   },
   {
    "duration": 5,
    "start_time": "2024-07-08T22:20:00.913Z"
   },
   {
    "duration": 70,
    "start_time": "2024-07-08T22:20:00.922Z"
   },
   {
    "duration": 14,
    "start_time": "2024-07-08T22:20:00.997Z"
   },
   {
    "duration": 79,
    "start_time": "2024-07-08T22:20:01.014Z"
   },
   {
    "duration": 10,
    "start_time": "2024-07-08T22:20:01.096Z"
   },
   {
    "duration": 9,
    "start_time": "2024-07-08T22:20:01.110Z"
   },
   {
    "duration": 72,
    "start_time": "2024-07-08T22:20:01.122Z"
   },
   {
    "duration": 10,
    "start_time": "2024-07-08T22:20:01.198Z"
   },
   {
    "duration": 84,
    "start_time": "2024-07-08T22:20:01.212Z"
   },
   {
    "duration": 1630,
    "start_time": "2024-07-08T23:23:21.503Z"
   },
   {
    "duration": 12,
    "start_time": "2024-07-08T23:23:23.137Z"
   },
   {
    "duration": 15,
    "start_time": "2024-07-08T23:23:23.152Z"
   },
   {
    "duration": 37,
    "start_time": "2024-07-08T23:23:23.193Z"
   },
   {
    "duration": 1017,
    "start_time": "2024-07-08T23:23:23.234Z"
   },
   {
    "duration": 4,
    "start_time": "2024-07-08T23:23:24.254Z"
   },
   {
    "duration": 6,
    "start_time": "2024-07-08T23:23:24.261Z"
   },
   {
    "duration": 15,
    "start_time": "2024-07-08T23:23:24.292Z"
   },
   {
    "duration": 5,
    "start_time": "2024-07-08T23:23:24.312Z"
   },
   {
    "duration": 15,
    "start_time": "2024-07-08T23:23:24.321Z"
   },
   {
    "duration": 72,
    "start_time": "2024-07-08T23:23:24.340Z"
   },
   {
    "duration": 5072,
    "start_time": "2024-07-08T23:23:24.415Z"
   },
   {
    "duration": 8,
    "start_time": "2024-07-08T23:23:29.491Z"
   },
   {
    "duration": 18,
    "start_time": "2024-07-08T23:23:29.508Z"
   },
   {
    "duration": 17,
    "start_time": "2024-07-08T23:23:29.529Z"
   },
   {
    "duration": 4,
    "start_time": "2024-07-08T23:23:29.550Z"
   },
   {
    "duration": 76,
    "start_time": "2024-07-08T23:23:29.592Z"
   },
   {
    "duration": 36,
    "start_time": "2024-07-08T23:23:29.670Z"
   },
   {
    "duration": 22,
    "start_time": "2024-07-08T23:23:29.709Z"
   },
   {
    "duration": 12,
    "start_time": "2024-07-08T23:23:29.735Z"
   },
   {
    "duration": 209,
    "start_time": "2024-07-08T23:23:29.750Z"
   },
   {
    "duration": 5,
    "start_time": "2024-07-08T23:23:29.962Z"
   },
   {
    "duration": 20,
    "start_time": "2024-07-08T23:23:29.970Z"
   },
   {
    "duration": 38,
    "start_time": "2024-07-08T23:23:29.993Z"
   },
   {
    "duration": 7,
    "start_time": "2024-07-08T23:23:30.034Z"
   },
   {
    "duration": 5,
    "start_time": "2024-07-08T23:23:30.045Z"
   },
   {
    "duration": 52,
    "start_time": "2024-07-08T23:23:30.054Z"
   },
   {
    "duration": 83,
    "start_time": "2024-07-08T23:23:30.109Z"
   },
   {
    "duration": 3,
    "start_time": "2024-07-08T23:23:30.195Z"
   },
   {
    "duration": 5,
    "start_time": "2024-07-08T23:23:30.202Z"
   },
   {
    "duration": 85,
    "start_time": "2024-07-08T23:23:30.210Z"
   },
   {
    "duration": 8,
    "start_time": "2024-07-08T23:23:30.298Z"
   },
   {
    "duration": 13,
    "start_time": "2024-07-08T23:23:30.309Z"
   },
   {
    "duration": 67,
    "start_time": "2024-07-08T23:23:30.325Z"
   },
   {
    "duration": 12,
    "start_time": "2024-07-08T23:23:30.395Z"
   },
   {
    "duration": 88,
    "start_time": "2024-07-08T23:23:30.410Z"
   },
   {
    "duration": 16,
    "start_time": "2024-07-09T11:35:38.240Z"
   },
   {
    "duration": 7,
    "start_time": "2024-07-09T11:48:39.729Z"
   },
   {
    "duration": 333,
    "start_time": "2024-07-11T16:23:11.353Z"
   },
   {
    "duration": 5304,
    "start_time": "2024-07-11T16:23:16.552Z"
   },
   {
    "duration": 21,
    "start_time": "2024-07-11T16:23:21.860Z"
   },
   {
    "duration": 15,
    "start_time": "2024-07-11T16:23:21.884Z"
   },
   {
    "duration": 32,
    "start_time": "2024-07-11T16:23:21.904Z"
   },
   {
    "duration": 1076,
    "start_time": "2024-07-11T16:23:21.939Z"
   },
   {
    "duration": 4,
    "start_time": "2024-07-11T16:23:23.018Z"
   },
   {
    "duration": 6,
    "start_time": "2024-07-11T16:23:23.025Z"
   },
   {
    "duration": 40,
    "start_time": "2024-07-11T16:23:23.034Z"
   },
   {
    "duration": 8,
    "start_time": "2024-07-11T16:23:23.077Z"
   },
   {
    "duration": 14,
    "start_time": "2024-07-11T16:23:23.092Z"
   },
   {
    "duration": 71,
    "start_time": "2024-07-11T16:23:23.109Z"
   },
   {
    "duration": 5045,
    "start_time": "2024-07-11T16:23:23.183Z"
   },
   {
    "duration": 7,
    "start_time": "2024-07-11T16:23:28.231Z"
   },
   {
    "duration": 13,
    "start_time": "2024-07-11T16:23:28.241Z"
   },
   {
    "duration": 15,
    "start_time": "2024-07-11T16:23:28.267Z"
   },
   {
    "duration": 4,
    "start_time": "2024-07-11T16:23:28.286Z"
   },
   {
    "duration": 104,
    "start_time": "2024-07-11T16:23:28.293Z"
   },
   {
    "duration": 19,
    "start_time": "2024-07-11T16:23:28.400Z"
   },
   {
    "duration": 19,
    "start_time": "2024-07-11T16:23:28.423Z"
   },
   {
    "duration": 11,
    "start_time": "2024-07-11T16:23:28.470Z"
   },
   {
    "duration": 194,
    "start_time": "2024-07-11T16:23:28.485Z"
   },
   {
    "duration": 5,
    "start_time": "2024-07-11T16:23:28.684Z"
   },
   {
    "duration": 5,
    "start_time": "2024-07-11T16:23:28.693Z"
   },
   {
    "duration": 67,
    "start_time": "2024-07-11T16:23:28.701Z"
   },
   {
    "duration": 12,
    "start_time": "2024-07-11T16:23:28.771Z"
   },
   {
    "duration": 6,
    "start_time": "2024-07-11T16:23:28.787Z"
   },
   {
    "duration": 20,
    "start_time": "2024-07-11T16:23:28.796Z"
   },
   {
    "duration": 15,
    "start_time": "2024-07-11T16:23:28.876Z"
   },
   {
    "duration": 81,
    "start_time": "2024-07-11T16:23:28.894Z"
   },
   {
    "duration": 5,
    "start_time": "2024-07-11T16:23:28.979Z"
   },
   {
    "duration": 4,
    "start_time": "2024-07-11T16:23:28.987Z"
   },
   {
    "duration": 5,
    "start_time": "2024-07-11T16:23:28.995Z"
   },
   {
    "duration": 6,
    "start_time": "2024-07-11T16:23:29.005Z"
   },
   {
    "duration": 8,
    "start_time": "2024-07-11T16:23:29.068Z"
   },
   {
    "duration": 13,
    "start_time": "2024-07-11T16:23:29.079Z"
   },
   {
    "duration": 73,
    "start_time": "2024-07-11T16:23:29.095Z"
   },
   {
    "duration": 11,
    "start_time": "2024-07-11T16:23:29.170Z"
   },
   {
    "duration": 92,
    "start_time": "2024-07-11T16:23:29.184Z"
   },
   {
    "duration": 1600,
    "start_time": "2024-07-11T16:27:50.283Z"
   },
   {
    "duration": 14,
    "start_time": "2024-07-11T16:27:51.887Z"
   },
   {
    "duration": 21,
    "start_time": "2024-07-11T16:27:51.908Z"
   },
   {
    "duration": 60,
    "start_time": "2024-07-11T16:27:51.932Z"
   },
   {
    "duration": 996,
    "start_time": "2024-07-11T16:27:51.997Z"
   },
   {
    "duration": 4,
    "start_time": "2024-07-11T16:27:52.998Z"
   },
   {
    "duration": 6,
    "start_time": "2024-07-11T16:27:53.007Z"
   },
   {
    "duration": 48,
    "start_time": "2024-07-11T16:27:53.020Z"
   },
   {
    "duration": 8,
    "start_time": "2024-07-11T16:27:53.071Z"
   },
   {
    "duration": 18,
    "start_time": "2024-07-11T16:27:53.083Z"
   },
   {
    "duration": 30,
    "start_time": "2024-07-11T16:27:53.104Z"
   },
   {
    "duration": 5076,
    "start_time": "2024-07-11T16:27:53.168Z"
   },
   {
    "duration": 8,
    "start_time": "2024-07-11T16:27:58.247Z"
   },
   {
    "duration": 21,
    "start_time": "2024-07-11T16:27:58.262Z"
   },
   {
    "duration": 26,
    "start_time": "2024-07-11T16:27:58.286Z"
   },
   {
    "duration": 4,
    "start_time": "2024-07-11T16:27:58.315Z"
   },
   {
    "duration": 101,
    "start_time": "2024-07-11T16:27:58.321Z"
   },
   {
    "duration": 20,
    "start_time": "2024-07-11T16:27:58.425Z"
   },
   {
    "duration": 41,
    "start_time": "2024-07-11T16:27:58.448Z"
   },
   {
    "duration": 9,
    "start_time": "2024-07-11T16:27:58.492Z"
   },
   {
    "duration": 214,
    "start_time": "2024-07-11T16:27:58.504Z"
   },
   {
    "duration": 4,
    "start_time": "2024-07-11T16:27:58.721Z"
   },
   {
    "duration": 5,
    "start_time": "2024-07-11T16:27:58.728Z"
   },
   {
    "duration": 67,
    "start_time": "2024-07-11T16:27:58.736Z"
   },
   {
    "duration": 7,
    "start_time": "2024-07-11T16:27:58.805Z"
   },
   {
    "duration": 6,
    "start_time": "2024-07-11T16:27:58.816Z"
   },
   {
    "duration": 5,
    "start_time": "2024-07-11T16:27:58.825Z"
   },
   {
    "duration": 582,
    "start_time": "2024-07-11T16:27:58.834Z"
   },
   {
    "duration": 0,
    "start_time": "2024-07-11T16:27:59.418Z"
   },
   {
    "duration": 0,
    "start_time": "2024-07-11T16:27:59.420Z"
   },
   {
    "duration": 0,
    "start_time": "2024-07-11T16:27:59.423Z"
   },
   {
    "duration": 0,
    "start_time": "2024-07-11T16:27:59.425Z"
   },
   {
    "duration": 0,
    "start_time": "2024-07-11T16:27:59.427Z"
   },
   {
    "duration": 0,
    "start_time": "2024-07-11T16:27:59.429Z"
   },
   {
    "duration": 0,
    "start_time": "2024-07-11T16:27:59.431Z"
   },
   {
    "duration": 0,
    "start_time": "2024-07-11T16:27:59.433Z"
   },
   {
    "duration": 0,
    "start_time": "2024-07-11T16:27:59.436Z"
   },
   {
    "duration": 0,
    "start_time": "2024-07-11T16:27:59.468Z"
   },
   {
    "duration": 1,
    "start_time": "2024-07-11T16:27:59.470Z"
   },
   {
    "duration": 40,
    "start_time": "2024-07-11T16:28:27.773Z"
   },
   {
    "duration": 37,
    "start_time": "2024-07-11T16:29:12.367Z"
   },
   {
    "duration": 6,
    "start_time": "2024-07-11T16:29:50.712Z"
   },
   {
    "duration": 42,
    "start_time": "2024-07-11T16:29:51.849Z"
   },
   {
    "duration": 6,
    "start_time": "2024-07-11T16:33:27.411Z"
   },
   {
    "duration": 5,
    "start_time": "2024-07-11T16:33:31.551Z"
   },
   {
    "duration": 5,
    "start_time": "2024-07-11T16:33:31.953Z"
   },
   {
    "duration": 7,
    "start_time": "2024-07-11T16:33:32.581Z"
   },
   {
    "duration": 41,
    "start_time": "2024-07-11T16:33:33.687Z"
   },
   {
    "duration": 4,
    "start_time": "2024-07-11T16:40:44.267Z"
   },
   {
    "duration": 4,
    "start_time": "2024-07-11T16:41:06.600Z"
   },
   {
    "duration": 1627,
    "start_time": "2024-07-11T16:41:12.932Z"
   },
   {
    "duration": 13,
    "start_time": "2024-07-11T16:41:14.563Z"
   },
   {
    "duration": 15,
    "start_time": "2024-07-11T16:41:14.579Z"
   },
   {
    "duration": 32,
    "start_time": "2024-07-11T16:41:14.598Z"
   },
   {
    "duration": 1016,
    "start_time": "2024-07-11T16:41:14.633Z"
   },
   {
    "duration": 15,
    "start_time": "2024-07-11T16:41:15.652Z"
   },
   {
    "duration": 6,
    "start_time": "2024-07-11T16:41:15.671Z"
   },
   {
    "duration": 15,
    "start_time": "2024-07-11T16:41:15.680Z"
   },
   {
    "duration": 5,
    "start_time": "2024-07-11T16:41:15.699Z"
   },
   {
    "duration": 60,
    "start_time": "2024-07-11T16:41:15.710Z"
   },
   {
    "duration": 30,
    "start_time": "2024-07-11T16:41:15.773Z"
   },
   {
    "duration": 5031,
    "start_time": "2024-07-11T16:41:15.806Z"
   },
   {
    "duration": 7,
    "start_time": "2024-07-11T16:41:20.841Z"
   },
   {
    "duration": 20,
    "start_time": "2024-07-11T16:41:20.851Z"
   },
   {
    "duration": 14,
    "start_time": "2024-07-11T16:41:20.874Z"
   },
   {
    "duration": 5,
    "start_time": "2024-07-11T16:41:20.891Z"
   },
   {
    "duration": 101,
    "start_time": "2024-07-11T16:41:20.899Z"
   },
   {
    "duration": 19,
    "start_time": "2024-07-11T16:41:21.003Z"
   },
   {
    "duration": 43,
    "start_time": "2024-07-11T16:41:21.025Z"
   },
   {
    "duration": 10,
    "start_time": "2024-07-11T16:41:21.071Z"
   },
   {
    "duration": 183,
    "start_time": "2024-07-11T16:41:21.084Z"
   },
   {
    "duration": 6,
    "start_time": "2024-07-11T16:41:21.270Z"
   },
   {
    "duration": 6,
    "start_time": "2024-07-11T16:41:21.279Z"
   },
   {
    "duration": 38,
    "start_time": "2024-07-11T16:41:21.288Z"
   },
   {
    "duration": 40,
    "start_time": "2024-07-11T16:41:21.329Z"
   },
   {
    "duration": 5,
    "start_time": "2024-07-11T16:41:21.372Z"
   },
   {
    "duration": 7,
    "start_time": "2024-07-11T16:41:21.381Z"
   },
   {
    "duration": 7,
    "start_time": "2024-07-11T16:41:21.396Z"
   },
   {
    "duration": 61,
    "start_time": "2024-07-11T16:41:21.406Z"
   },
   {
    "duration": 12,
    "start_time": "2024-07-11T16:41:21.472Z"
   },
   {
    "duration": 82,
    "start_time": "2024-07-11T16:41:21.490Z"
   },
   {
    "duration": 5,
    "start_time": "2024-07-11T16:41:21.575Z"
   },
   {
    "duration": 5,
    "start_time": "2024-07-11T16:41:21.583Z"
   },
   {
    "duration": 5,
    "start_time": "2024-07-11T16:41:21.591Z"
   },
   {
    "duration": 5,
    "start_time": "2024-07-11T16:41:21.600Z"
   },
   {
    "duration": 60,
    "start_time": "2024-07-11T16:41:21.609Z"
   },
   {
    "duration": 7,
    "start_time": "2024-07-11T16:41:21.672Z"
   },
   {
    "duration": 8,
    "start_time": "2024-07-11T16:41:21.681Z"
   },
   {
    "duration": 80,
    "start_time": "2024-07-11T16:41:21.692Z"
   },
   {
    "duration": 621,
    "start_time": "2024-07-11T16:41:21.775Z"
   },
   {
    "duration": 7,
    "start_time": "2024-07-11T16:42:13.154Z"
   },
   {
    "duration": 7,
    "start_time": "2024-07-11T16:42:16.866Z"
   },
   {
    "duration": 7,
    "start_time": "2024-07-11T16:42:22.804Z"
   },
   {
    "duration": 1640,
    "start_time": "2024-07-11T16:44:07.455Z"
   },
   {
    "duration": 11,
    "start_time": "2024-07-11T16:44:09.099Z"
   },
   {
    "duration": 14,
    "start_time": "2024-07-11T16:44:09.113Z"
   },
   {
    "duration": 56,
    "start_time": "2024-07-11T16:44:09.132Z"
   },
   {
    "duration": 1030,
    "start_time": "2024-07-11T16:44:09.192Z"
   },
   {
    "duration": 3,
    "start_time": "2024-07-11T16:44:10.226Z"
   },
   {
    "duration": 6,
    "start_time": "2024-07-11T16:44:10.232Z"
   },
   {
    "duration": 39,
    "start_time": "2024-07-11T16:44:10.242Z"
   },
   {
    "duration": 5,
    "start_time": "2024-07-11T16:44:10.284Z"
   },
   {
    "duration": 15,
    "start_time": "2024-07-11T16:44:10.296Z"
   },
   {
    "duration": 61,
    "start_time": "2024-07-11T16:44:10.314Z"
   },
   {
    "duration": 5027,
    "start_time": "2024-07-11T16:44:10.378Z"
   },
   {
    "duration": 8,
    "start_time": "2024-07-11T16:44:15.408Z"
   },
   {
    "duration": 15,
    "start_time": "2024-07-11T16:44:15.419Z"
   },
   {
    "duration": 32,
    "start_time": "2024-07-11T16:44:15.437Z"
   },
   {
    "duration": 4,
    "start_time": "2024-07-11T16:44:15.472Z"
   },
   {
    "duration": 93,
    "start_time": "2024-07-11T16:44:15.480Z"
   },
   {
    "duration": 19,
    "start_time": "2024-07-11T16:44:15.576Z"
   },
   {
    "duration": 21,
    "start_time": "2024-07-11T16:44:15.598Z"
   },
   {
    "duration": 9,
    "start_time": "2024-07-11T16:44:15.622Z"
   },
   {
    "duration": 176,
    "start_time": "2024-07-11T16:44:15.669Z"
   },
   {
    "duration": 6,
    "start_time": "2024-07-11T16:44:15.848Z"
   },
   {
    "duration": 4,
    "start_time": "2024-07-11T16:44:15.868Z"
   },
   {
    "duration": 41,
    "start_time": "2024-07-11T16:44:15.875Z"
   },
   {
    "duration": 7,
    "start_time": "2024-07-11T16:44:15.919Z"
   },
   {
    "duration": 38,
    "start_time": "2024-07-11T16:44:15.930Z"
   },
   {
    "duration": 6,
    "start_time": "2024-07-11T16:44:15.971Z"
   },
   {
    "duration": 7,
    "start_time": "2024-07-11T16:44:15.987Z"
   },
   {
    "duration": 74,
    "start_time": "2024-07-11T16:44:15.997Z"
   },
   {
    "duration": 18,
    "start_time": "2024-07-11T16:44:16.074Z"
   },
   {
    "duration": 8,
    "start_time": "2024-07-11T16:44:16.168Z"
   },
   {
    "duration": 6,
    "start_time": "2024-07-11T16:44:16.179Z"
   },
   {
    "duration": 4,
    "start_time": "2024-07-11T16:44:16.189Z"
   },
   {
    "duration": 5,
    "start_time": "2024-07-11T16:44:16.269Z"
   },
   {
    "duration": 5,
    "start_time": "2024-07-11T16:44:16.277Z"
   },
   {
    "duration": 8,
    "start_time": "2024-07-11T16:44:16.285Z"
   },
   {
    "duration": 12,
    "start_time": "2024-07-11T16:44:16.370Z"
   },
   {
    "duration": 82,
    "start_time": "2024-07-11T16:44:16.385Z"
   },
   {
    "duration": 11,
    "start_time": "2024-07-11T16:44:16.469Z"
   },
   {
    "duration": 607,
    "start_time": "2024-07-11T16:44:16.483Z"
   },
   {
    "duration": 1610,
    "start_time": "2024-07-11T16:46:40.154Z"
   },
   {
    "duration": 11,
    "start_time": "2024-07-11T16:46:41.768Z"
   },
   {
    "duration": 16,
    "start_time": "2024-07-11T16:46:41.781Z"
   },
   {
    "duration": 31,
    "start_time": "2024-07-11T16:46:41.804Z"
   },
   {
    "duration": 1022,
    "start_time": "2024-07-11T16:46:41.869Z"
   },
   {
    "duration": 4,
    "start_time": "2024-07-11T16:46:42.894Z"
   },
   {
    "duration": 5,
    "start_time": "2024-07-11T16:46:42.901Z"
   },
   {
    "duration": 15,
    "start_time": "2024-07-11T16:46:42.909Z"
   },
   {
    "duration": 43,
    "start_time": "2024-07-11T16:46:42.926Z"
   },
   {
    "duration": 15,
    "start_time": "2024-07-11T16:46:42.977Z"
   },
   {
    "duration": 28,
    "start_time": "2024-07-11T16:46:42.995Z"
   },
   {
    "duration": 4998,
    "start_time": "2024-07-11T16:46:43.026Z"
   },
   {
    "duration": 7,
    "start_time": "2024-07-11T16:46:48.028Z"
   },
   {
    "duration": 14,
    "start_time": "2024-07-11T16:46:48.039Z"
   },
   {
    "duration": 23,
    "start_time": "2024-07-11T16:46:48.067Z"
   },
   {
    "duration": 4,
    "start_time": "2024-07-11T16:46:48.093Z"
   },
   {
    "duration": 104,
    "start_time": "2024-07-11T16:46:48.100Z"
   },
   {
    "duration": 18,
    "start_time": "2024-07-11T16:46:48.207Z"
   },
   {
    "duration": 39,
    "start_time": "2024-07-11T16:46:48.229Z"
   },
   {
    "duration": 10,
    "start_time": "2024-07-11T16:46:48.270Z"
   },
   {
    "duration": 189,
    "start_time": "2024-07-11T16:46:48.283Z"
   },
   {
    "duration": 9,
    "start_time": "2024-07-11T16:46:48.475Z"
   },
   {
    "duration": 5,
    "start_time": "2024-07-11T16:46:48.487Z"
   },
   {
    "duration": 38,
    "start_time": "2024-07-11T16:46:48.494Z"
   },
   {
    "duration": 35,
    "start_time": "2024-07-11T16:46:48.535Z"
   },
   {
    "duration": 6,
    "start_time": "2024-07-11T16:46:48.573Z"
   },
   {
    "duration": 6,
    "start_time": "2024-07-11T16:46:48.582Z"
   },
   {
    "duration": 8,
    "start_time": "2024-07-11T16:46:48.596Z"
   },
   {
    "duration": 67,
    "start_time": "2024-07-11T16:46:48.606Z"
   },
   {
    "duration": 11,
    "start_time": "2024-07-11T16:46:48.676Z"
   },
   {
    "duration": 81,
    "start_time": "2024-07-11T16:46:48.691Z"
   },
   {
    "duration": 9,
    "start_time": "2024-07-11T16:46:48.776Z"
   },
   {
    "duration": 6,
    "start_time": "2024-07-11T16:46:48.788Z"
   },
   {
    "duration": 7,
    "start_time": "2024-07-11T16:46:48.871Z"
   },
   {
    "duration": 6,
    "start_time": "2024-07-11T16:46:48.882Z"
   },
   {
    "duration": 9,
    "start_time": "2024-07-11T16:46:48.893Z"
   },
   {
    "duration": 64,
    "start_time": "2024-07-11T16:46:48.906Z"
   },
   {
    "duration": 8,
    "start_time": "2024-07-11T16:46:48.973Z"
   },
   {
    "duration": 84,
    "start_time": "2024-07-11T16:46:48.984Z"
   },
   {
    "duration": 532,
    "start_time": "2024-07-11T16:46:49.072Z"
   },
   {
    "duration": 1611,
    "start_time": "2024-07-11T16:56:37.965Z"
   },
   {
    "duration": 12,
    "start_time": "2024-07-11T16:56:39.580Z"
   },
   {
    "duration": 16,
    "start_time": "2024-07-11T16:56:39.594Z"
   },
   {
    "duration": 61,
    "start_time": "2024-07-11T16:56:39.612Z"
   },
   {
    "duration": 988,
    "start_time": "2024-07-11T16:56:39.679Z"
   },
   {
    "duration": 4,
    "start_time": "2024-07-11T16:56:40.670Z"
   },
   {
    "duration": 6,
    "start_time": "2024-07-11T16:56:40.678Z"
   },
   {
    "duration": 15,
    "start_time": "2024-07-11T16:56:40.688Z"
   },
   {
    "duration": 5,
    "start_time": "2024-07-11T16:56:40.706Z"
   },
   {
    "duration": 59,
    "start_time": "2024-07-11T16:56:40.714Z"
   },
   {
    "duration": 30,
    "start_time": "2024-07-11T16:56:40.776Z"
   },
   {
    "duration": 5204,
    "start_time": "2024-07-11T16:56:40.808Z"
   },
   {
    "duration": 8,
    "start_time": "2024-07-11T16:56:46.016Z"
   },
   {
    "duration": 17,
    "start_time": "2024-07-11T16:56:46.033Z"
   },
   {
    "duration": 29,
    "start_time": "2024-07-11T16:56:46.055Z"
   },
   {
    "duration": 6,
    "start_time": "2024-07-11T16:56:46.092Z"
   },
   {
    "duration": 115,
    "start_time": "2024-07-11T16:56:46.101Z"
   },
   {
    "duration": 22,
    "start_time": "2024-07-11T16:56:46.219Z"
   },
   {
    "duration": 42,
    "start_time": "2024-07-11T16:56:46.244Z"
   },
   {
    "duration": 12,
    "start_time": "2024-07-11T16:56:46.289Z"
   },
   {
    "duration": 207,
    "start_time": "2024-07-11T16:56:46.304Z"
   },
   {
    "duration": 7,
    "start_time": "2024-07-11T16:56:46.514Z"
   },
   {
    "duration": 5,
    "start_time": "2024-07-11T16:56:46.525Z"
   },
   {
    "duration": 64,
    "start_time": "2024-07-11T16:56:46.533Z"
   },
   {
    "duration": 8,
    "start_time": "2024-07-11T16:56:46.600Z"
   },
   {
    "duration": 5,
    "start_time": "2024-07-11T16:56:46.612Z"
   },
   {
    "duration": 5,
    "start_time": "2024-07-11T16:56:46.621Z"
   },
   {
    "duration": 41,
    "start_time": "2024-07-11T16:56:46.630Z"
   },
   {
    "duration": 571,
    "start_time": "2024-07-11T16:56:46.676Z"
   },
   {
    "duration": 0,
    "start_time": "2024-07-11T16:56:47.251Z"
   },
   {
    "duration": 0,
    "start_time": "2024-07-11T16:56:47.258Z"
   },
   {
    "duration": 0,
    "start_time": "2024-07-11T16:56:47.268Z"
   },
   {
    "duration": 0,
    "start_time": "2024-07-11T16:56:47.271Z"
   },
   {
    "duration": 0,
    "start_time": "2024-07-11T16:56:47.272Z"
   },
   {
    "duration": 0,
    "start_time": "2024-07-11T16:56:47.275Z"
   },
   {
    "duration": 0,
    "start_time": "2024-07-11T16:56:47.277Z"
   },
   {
    "duration": 0,
    "start_time": "2024-07-11T16:56:47.279Z"
   },
   {
    "duration": 0,
    "start_time": "2024-07-11T16:56:47.281Z"
   },
   {
    "duration": 0,
    "start_time": "2024-07-11T16:56:47.284Z"
   },
   {
    "duration": 0,
    "start_time": "2024-07-11T16:56:47.285Z"
   },
   {
    "duration": 0,
    "start_time": "2024-07-11T16:56:47.287Z"
   },
   {
    "duration": 7,
    "start_time": "2024-07-11T16:57:39.474Z"
   },
   {
    "duration": 7,
    "start_time": "2024-07-11T16:57:40.622Z"
   },
   {
    "duration": 6,
    "start_time": "2024-07-11T16:57:42.306Z"
   },
   {
    "duration": 8,
    "start_time": "2024-07-11T16:57:43.255Z"
   },
   {
    "duration": 1555,
    "start_time": "2024-07-11T16:58:08.515Z"
   },
   {
    "duration": 12,
    "start_time": "2024-07-11T16:58:10.073Z"
   },
   {
    "duration": 15,
    "start_time": "2024-07-11T16:58:10.088Z"
   },
   {
    "duration": 33,
    "start_time": "2024-07-11T16:58:10.107Z"
   },
   {
    "duration": 990,
    "start_time": "2024-07-11T16:58:10.170Z"
   },
   {
    "duration": 5,
    "start_time": "2024-07-11T16:58:11.163Z"
   },
   {
    "duration": 5,
    "start_time": "2024-07-11T16:58:11.171Z"
   },
   {
    "duration": 14,
    "start_time": "2024-07-11T16:58:11.179Z"
   },
   {
    "duration": 5,
    "start_time": "2024-07-11T16:58:11.196Z"
   },
   {
    "duration": 14,
    "start_time": "2024-07-11T16:58:11.207Z"
   },
   {
    "duration": 30,
    "start_time": "2024-07-11T16:58:11.268Z"
   },
   {
    "duration": 4979,
    "start_time": "2024-07-11T16:58:11.301Z"
   },
   {
    "duration": 8,
    "start_time": "2024-07-11T16:58:16.284Z"
   },
   {
    "duration": 14,
    "start_time": "2024-07-11T16:58:16.295Z"
   },
   {
    "duration": 13,
    "start_time": "2024-07-11T16:58:16.312Z"
   },
   {
    "duration": 4,
    "start_time": "2024-07-11T16:58:16.328Z"
   },
   {
    "duration": 107,
    "start_time": "2024-07-11T16:58:16.335Z"
   },
   {
    "duration": 39,
    "start_time": "2024-07-11T16:58:16.446Z"
   },
   {
    "duration": 23,
    "start_time": "2024-07-11T16:58:16.489Z"
   },
   {
    "duration": 9,
    "start_time": "2024-07-11T16:58:16.515Z"
   },
   {
    "duration": 244,
    "start_time": "2024-07-11T16:58:16.527Z"
   },
   {
    "duration": 6,
    "start_time": "2024-07-11T16:58:16.776Z"
   },
   {
    "duration": 8,
    "start_time": "2024-07-11T16:58:16.785Z"
   },
   {
    "duration": 90,
    "start_time": "2024-07-11T16:58:16.797Z"
   },
   {
    "duration": 7,
    "start_time": "2024-07-11T16:58:16.891Z"
   },
   {
    "duration": 5,
    "start_time": "2024-07-11T16:58:16.902Z"
   },
   {
    "duration": 6,
    "start_time": "2024-07-11T16:58:16.910Z"
   },
   {
    "duration": 10,
    "start_time": "2024-07-11T16:58:16.971Z"
   },
   {
    "duration": 9,
    "start_time": "2024-07-11T16:58:16.984Z"
   },
   {
    "duration": 19,
    "start_time": "2024-07-11T16:58:16.997Z"
   },
   {
    "duration": 12,
    "start_time": "2024-07-11T16:58:17.069Z"
   },
   {
    "duration": 14,
    "start_time": "2024-07-11T16:58:17.084Z"
   },
   {
    "duration": 74,
    "start_time": "2024-07-11T16:58:17.101Z"
   },
   {
    "duration": 7,
    "start_time": "2024-07-11T16:58:17.179Z"
   },
   {
    "duration": 8,
    "start_time": "2024-07-11T16:58:17.188Z"
   },
   {
    "duration": 71,
    "start_time": "2024-07-11T16:58:17.199Z"
   },
   {
    "duration": 10,
    "start_time": "2024-07-11T16:58:17.275Z"
   },
   {
    "duration": 16,
    "start_time": "2024-07-11T16:58:17.288Z"
   },
   {
    "duration": 68,
    "start_time": "2024-07-11T16:58:17.308Z"
   },
   {
    "duration": 24,
    "start_time": "2024-07-11T16:58:17.379Z"
   },
   {
    "duration": 76,
    "start_time": "2024-07-11T16:58:17.408Z"
   },
   {
    "duration": 5,
    "start_time": "2024-07-11T17:18:13.869Z"
   },
   {
    "duration": 6,
    "start_time": "2024-07-11T17:18:17.810Z"
   },
   {
    "duration": 5,
    "start_time": "2024-07-11T17:18:19.245Z"
   },
   {
    "duration": 6,
    "start_time": "2024-07-11T17:18:22.689Z"
   },
   {
    "duration": 6,
    "start_time": "2024-07-11T17:18:25.690Z"
   },
   {
    "duration": 5,
    "start_time": "2024-07-11T17:18:28.134Z"
   },
   {
    "duration": 6,
    "start_time": "2024-07-11T17:18:30.096Z"
   },
   {
    "duration": 9,
    "start_time": "2024-07-11T17:18:38.064Z"
   },
   {
    "duration": 8,
    "start_time": "2024-07-11T17:18:51.017Z"
   },
   {
    "duration": 13,
    "start_time": "2024-07-11T17:19:02.222Z"
   },
   {
    "duration": 17,
    "start_time": "2024-07-11T17:20:10.332Z"
   },
   {
    "duration": 13,
    "start_time": "2024-07-11T17:21:24.201Z"
   },
   {
    "duration": 12,
    "start_time": "2024-07-11T17:21:32.030Z"
   },
   {
    "duration": 20,
    "start_time": "2024-07-11T17:22:26.100Z"
   },
   {
    "duration": 18,
    "start_time": "2024-07-11T17:22:51.008Z"
   },
   {
    "duration": 21,
    "start_time": "2024-07-11T17:23:05.269Z"
   },
   {
    "duration": 14,
    "start_time": "2024-07-11T17:26:25.482Z"
   },
   {
    "duration": 12,
    "start_time": "2024-07-11T17:26:38.824Z"
   },
   {
    "duration": 1568,
    "start_time": "2024-07-11T17:28:07.123Z"
   },
   {
    "duration": 13,
    "start_time": "2024-07-11T17:28:08.694Z"
   },
   {
    "duration": 15,
    "start_time": "2024-07-11T17:28:08.710Z"
   },
   {
    "duration": 59,
    "start_time": "2024-07-11T17:28:08.729Z"
   },
   {
    "duration": 992,
    "start_time": "2024-07-11T17:28:08.791Z"
   },
   {
    "duration": 3,
    "start_time": "2024-07-11T17:28:09.786Z"
   },
   {
    "duration": 7,
    "start_time": "2024-07-11T17:28:09.792Z"
   },
   {
    "duration": 15,
    "start_time": "2024-07-11T17:28:09.801Z"
   },
   {
    "duration": 5,
    "start_time": "2024-07-11T17:28:09.819Z"
   },
   {
    "duration": 17,
    "start_time": "2024-07-11T17:28:09.867Z"
   },
   {
    "duration": 29,
    "start_time": "2024-07-11T17:28:09.888Z"
   },
   {
    "duration": 4984,
    "start_time": "2024-07-11T17:28:09.920Z"
   },
   {
    "duration": 8,
    "start_time": "2024-07-11T17:28:14.908Z"
   },
   {
    "duration": 14,
    "start_time": "2024-07-11T17:28:14.919Z"
   },
   {
    "duration": 14,
    "start_time": "2024-07-11T17:28:14.935Z"
   },
   {
    "duration": 4,
    "start_time": "2024-07-11T17:28:14.952Z"
   },
   {
    "duration": 77,
    "start_time": "2024-07-11T17:28:14.967Z"
   },
   {
    "duration": 36,
    "start_time": "2024-07-11T17:28:15.047Z"
   },
   {
    "duration": 21,
    "start_time": "2024-07-11T17:28:15.086Z"
   },
   {
    "duration": 11,
    "start_time": "2024-07-11T17:28:15.109Z"
   },
   {
    "duration": 207,
    "start_time": "2024-07-11T17:28:15.124Z"
   },
   {
    "duration": 5,
    "start_time": "2024-07-11T17:28:15.334Z"
   },
   {
    "duration": 5,
    "start_time": "2024-07-11T17:28:15.342Z"
   },
   {
    "duration": 39,
    "start_time": "2024-07-11T17:28:15.369Z"
   },
   {
    "duration": 7,
    "start_time": "2024-07-11T17:28:15.411Z"
   },
   {
    "duration": 6,
    "start_time": "2024-07-11T17:28:15.421Z"
   },
   {
    "duration": 41,
    "start_time": "2024-07-11T17:28:15.430Z"
   },
   {
    "duration": 4,
    "start_time": "2024-07-11T17:28:15.479Z"
   },
   {
    "duration": 8,
    "start_time": "2024-07-11T17:28:15.487Z"
   },
   {
    "duration": 69,
    "start_time": "2024-07-11T17:28:15.498Z"
   },
   {
    "duration": 6,
    "start_time": "2024-07-11T17:28:15.572Z"
   },
   {
    "duration": 10,
    "start_time": "2024-07-11T17:28:15.581Z"
   },
   {
    "duration": 78,
    "start_time": "2024-07-11T17:28:15.593Z"
   },
   {
    "duration": 4,
    "start_time": "2024-07-11T17:28:15.675Z"
   },
   {
    "duration": 7,
    "start_time": "2024-07-11T17:28:15.682Z"
   },
   {
    "duration": 79,
    "start_time": "2024-07-11T17:28:15.692Z"
   },
   {
    "duration": 7,
    "start_time": "2024-07-11T17:28:15.775Z"
   },
   {
    "duration": 7,
    "start_time": "2024-07-11T17:28:15.786Z"
   },
   {
    "duration": 74,
    "start_time": "2024-07-11T17:28:15.796Z"
   },
   {
    "duration": 16,
    "start_time": "2024-07-11T17:28:15.874Z"
   },
   {
    "duration": 14,
    "start_time": "2024-07-11T17:28:15.968Z"
   },
   {
    "duration": 92,
    "start_time": "2024-07-11T17:28:15.985Z"
   }
  ],
  "kernelspec": {
   "display_name": "Python 3 (ipykernel)",
   "language": "python",
   "name": "python3"
  },
  "language_info": {
   "codemirror_mode": {
    "name": "ipython",
    "version": 3
   },
   "file_extension": ".py",
   "mimetype": "text/x-python",
   "name": "python",
   "nbconvert_exporter": "python",
   "pygments_lexer": "ipython3",
   "version": "3.11.7"
  },
  "toc": {
   "base_numbering": 1,
   "nav_menu": {},
   "number_sections": true,
   "sideBar": true,
   "skip_h1_title": true,
   "title_cell": "Table of Contents",
   "title_sidebar": "Contents",
   "toc_cell": false,
   "toc_position": {},
   "toc_section_display": true,
   "toc_window_display": false
  }
 },
 "nbformat": 4,
 "nbformat_minor": 4
}
